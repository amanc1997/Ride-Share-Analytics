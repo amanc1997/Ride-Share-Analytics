{
 "cells": [
  {
   "cell_type": "markdown",
   "id": "fe8cfb63",
   "metadata": {
    "slideshow": {
     "slide_type": "slide"
    }
   },
   "source": [
    "# Ride Share Analytics\n",
    "\n",
    "Aman Chaudhary and Rahul Devajji"
   ]
  },
  {
   "cell_type": "markdown",
   "id": "c50554ac",
   "metadata": {
    "slideshow": {
     "slide_type": "slide"
    }
   },
   "source": [
    "We have a dataset of rides taken by people in three major American cities - **Chicago**, **New York** and **Washington**.\n",
    "\n",
    "Out of the three cities, Washington does not have the `Gender` and `Birth Year` columns.\n",
    "\n",
    "Our primary goal is to predict these two (Categorical and Ordinal) columns for the city of **Washington** by training a machine learning model with the **Chicago** and **New York** data. "
   ]
  },
  {
   "cell_type": "markdown",
   "id": "038fc05b",
   "metadata": {
    "slideshow": {
     "slide_type": "-"
    }
   },
   "source": [
    "## Import Dependencies"
   ]
  },
  {
   "cell_type": "code",
   "execution_count": 224,
   "id": "a23f9b9e",
   "metadata": {},
   "outputs": [],
   "source": [
    "import pandas as pd\n",
    "import numpy as np\n",
    "import matplotlib.pyplot as plt\n",
    "import statsmodels.api as sm\n",
    "import seaborn as sns\n",
    "custom_params = {\"axes.spines.right\": False, \"axes.spines.top\": False}\n",
    "sns.set_theme(style=\"ticks\", rc=custom_params)\n",
    "from sklearn.preprocessing import StandardScaler\n",
    "from scipy import stats\n",
    "from statsmodels.formula.api import ols\n",
    "from datetime import datetime\n",
    "from matplotlib.pyplot import figure\n",
    "\n",
    "pd.set_option('mode.chained_assignment', None)"
   ]
  },
  {
   "cell_type": "markdown",
   "id": "f0913d45",
   "metadata": {
    "slideshow": {
     "slide_type": "slide"
    }
   },
   "source": [
    "## Pre-processing"
   ]
  },
  {
   "cell_type": "code",
   "execution_count": 225,
   "id": "0a34cddb",
   "metadata": {},
   "outputs": [
    {
     "data": {
      "text/html": [
       "<div>\n",
       "<style scoped>\n",
       "    .dataframe tbody tr th:only-of-type {\n",
       "        vertical-align: middle;\n",
       "    }\n",
       "\n",
       "    .dataframe tbody tr th {\n",
       "        vertical-align: top;\n",
       "    }\n",
       "\n",
       "    .dataframe thead th {\n",
       "        text-align: right;\n",
       "    }\n",
       "</style>\n",
       "<table border=\"1\" class=\"dataframe\">\n",
       "  <thead>\n",
       "    <tr style=\"text-align: right;\">\n",
       "      <th></th>\n",
       "      <th>Unnamed: 0</th>\n",
       "      <th>Start Time</th>\n",
       "      <th>End Time</th>\n",
       "      <th>Trip Duration</th>\n",
       "      <th>Start Station</th>\n",
       "      <th>End Station</th>\n",
       "      <th>User Type</th>\n",
       "      <th>Gender</th>\n",
       "      <th>Birth Year</th>\n",
       "    </tr>\n",
       "  </thead>\n",
       "  <tbody>\n",
       "    <tr>\n",
       "      <th>0</th>\n",
       "      <td>1423854</td>\n",
       "      <td>2017-06-23 15:09:32</td>\n",
       "      <td>2017-06-23 15:14:53</td>\n",
       "      <td>321</td>\n",
       "      <td>Wood St &amp; Hubbard St</td>\n",
       "      <td>Damen Ave &amp; Chicago Ave</td>\n",
       "      <td>Subscriber</td>\n",
       "      <td>Male</td>\n",
       "      <td>1992.0</td>\n",
       "    </tr>\n",
       "    <tr>\n",
       "      <th>1</th>\n",
       "      <td>955915</td>\n",
       "      <td>2017-05-25 18:19:03</td>\n",
       "      <td>2017-05-25 18:45:53</td>\n",
       "      <td>1610</td>\n",
       "      <td>Theater on the Lake</td>\n",
       "      <td>Sheffield Ave &amp; Waveland Ave</td>\n",
       "      <td>Subscriber</td>\n",
       "      <td>Female</td>\n",
       "      <td>1992.0</td>\n",
       "    </tr>\n",
       "  </tbody>\n",
       "</table>\n",
       "</div>"
      ],
      "text/plain": [
       "   Unnamed: 0           Start Time             End Time  Trip Duration  \\\n",
       "0     1423854  2017-06-23 15:09:32  2017-06-23 15:14:53            321   \n",
       "1      955915  2017-05-25 18:19:03  2017-05-25 18:45:53           1610   \n",
       "\n",
       "          Start Station                   End Station   User Type  Gender  \\\n",
       "0  Wood St & Hubbard St       Damen Ave & Chicago Ave  Subscriber    Male   \n",
       "1   Theater on the Lake  Sheffield Ave & Waveland Ave  Subscriber  Female   \n",
       "\n",
       "   Birth Year  \n",
       "0      1992.0  \n",
       "1      1992.0  "
      ]
     },
     "execution_count": 225,
     "metadata": {},
     "output_type": "execute_result"
    }
   ],
   "source": [
    "chicago_df = pd.read_csv('./dataset/chicago.csv')\n",
    "chicago_df.head(2)"
   ]
  },
  {
   "cell_type": "code",
   "execution_count": 226,
   "id": "afac58f7",
   "metadata": {},
   "outputs": [
    {
     "data": {
      "text/html": [
       "<div>\n",
       "<style scoped>\n",
       "    .dataframe tbody tr th:only-of-type {\n",
       "        vertical-align: middle;\n",
       "    }\n",
       "\n",
       "    .dataframe tbody tr th {\n",
       "        vertical-align: top;\n",
       "    }\n",
       "\n",
       "    .dataframe thead th {\n",
       "        text-align: right;\n",
       "    }\n",
       "</style>\n",
       "<table border=\"1\" class=\"dataframe\">\n",
       "  <thead>\n",
       "    <tr style=\"text-align: right;\">\n",
       "      <th></th>\n",
       "      <th>Unnamed: 0</th>\n",
       "      <th>Start Time</th>\n",
       "      <th>End Time</th>\n",
       "      <th>Trip Duration</th>\n",
       "      <th>Start Station</th>\n",
       "      <th>End Station</th>\n",
       "      <th>User Type</th>\n",
       "      <th>Gender</th>\n",
       "      <th>Birth Year</th>\n",
       "    </tr>\n",
       "  </thead>\n",
       "  <tbody>\n",
       "    <tr>\n",
       "      <th>0</th>\n",
       "      <td>5688089</td>\n",
       "      <td>2017-06-11 14:55:05</td>\n",
       "      <td>2017-06-11 15:08:21</td>\n",
       "      <td>795</td>\n",
       "      <td>Suffolk St &amp; Stanton St</td>\n",
       "      <td>W Broadway &amp; Spring St</td>\n",
       "      <td>Subscriber</td>\n",
       "      <td>Male</td>\n",
       "      <td>1998.0</td>\n",
       "    </tr>\n",
       "    <tr>\n",
       "      <th>1</th>\n",
       "      <td>4096714</td>\n",
       "      <td>2017-05-11 15:30:11</td>\n",
       "      <td>2017-05-11 15:41:43</td>\n",
       "      <td>692</td>\n",
       "      <td>Lexington Ave &amp; E 63 St</td>\n",
       "      <td>1 Ave &amp; E 78 St</td>\n",
       "      <td>Subscriber</td>\n",
       "      <td>Male</td>\n",
       "      <td>1981.0</td>\n",
       "    </tr>\n",
       "  </tbody>\n",
       "</table>\n",
       "</div>"
      ],
      "text/plain": [
       "   Unnamed: 0           Start Time             End Time  Trip Duration  \\\n",
       "0     5688089  2017-06-11 14:55:05  2017-06-11 15:08:21            795   \n",
       "1     4096714  2017-05-11 15:30:11  2017-05-11 15:41:43            692   \n",
       "\n",
       "             Start Station             End Station   User Type Gender  \\\n",
       "0  Suffolk St & Stanton St  W Broadway & Spring St  Subscriber   Male   \n",
       "1  Lexington Ave & E 63 St         1 Ave & E 78 St  Subscriber   Male   \n",
       "\n",
       "   Birth Year  \n",
       "0      1998.0  \n",
       "1      1981.0  "
      ]
     },
     "execution_count": 226,
     "metadata": {},
     "output_type": "execute_result"
    }
   ],
   "source": [
    "newyork_df = pd.read_csv('./dataset/new_york_city.csv')\n",
    "newyork_df.head(2)"
   ]
  },
  {
   "cell_type": "code",
   "execution_count": 227,
   "id": "470186a6",
   "metadata": {},
   "outputs": [
    {
     "data": {
      "text/html": [
       "<div>\n",
       "<style scoped>\n",
       "    .dataframe tbody tr th:only-of-type {\n",
       "        vertical-align: middle;\n",
       "    }\n",
       "\n",
       "    .dataframe tbody tr th {\n",
       "        vertical-align: top;\n",
       "    }\n",
       "\n",
       "    .dataframe thead th {\n",
       "        text-align: right;\n",
       "    }\n",
       "</style>\n",
       "<table border=\"1\" class=\"dataframe\">\n",
       "  <thead>\n",
       "    <tr style=\"text-align: right;\">\n",
       "      <th></th>\n",
       "      <th>Unnamed: 0</th>\n",
       "      <th>Start Time</th>\n",
       "      <th>End Time</th>\n",
       "      <th>Trip Duration</th>\n",
       "      <th>Start Station</th>\n",
       "      <th>End Station</th>\n",
       "      <th>User Type</th>\n",
       "    </tr>\n",
       "  </thead>\n",
       "  <tbody>\n",
       "    <tr>\n",
       "      <th>0</th>\n",
       "      <td>1621326</td>\n",
       "      <td>2017-06-21 08:36:34</td>\n",
       "      <td>2017-06-21 08:44:43</td>\n",
       "      <td>489.066</td>\n",
       "      <td>14th &amp; Belmont St NW</td>\n",
       "      <td>15th &amp; K St NW</td>\n",
       "      <td>Subscriber</td>\n",
       "    </tr>\n",
       "    <tr>\n",
       "      <th>1</th>\n",
       "      <td>482740</td>\n",
       "      <td>2017-03-11 10:40:00</td>\n",
       "      <td>2017-03-11 10:46:00</td>\n",
       "      <td>402.549</td>\n",
       "      <td>Yuma St &amp; Tenley Circle NW</td>\n",
       "      <td>Connecticut Ave &amp; Yuma St NW</td>\n",
       "      <td>Subscriber</td>\n",
       "    </tr>\n",
       "  </tbody>\n",
       "</table>\n",
       "</div>"
      ],
      "text/plain": [
       "   Unnamed: 0           Start Time             End Time  Trip Duration  \\\n",
       "0     1621326  2017-06-21 08:36:34  2017-06-21 08:44:43        489.066   \n",
       "1      482740  2017-03-11 10:40:00  2017-03-11 10:46:00        402.549   \n",
       "\n",
       "                Start Station                   End Station   User Type  \n",
       "0        14th & Belmont St NW                15th & K St NW  Subscriber  \n",
       "1  Yuma St & Tenley Circle NW  Connecticut Ave & Yuma St NW  Subscriber  "
      ]
     },
     "execution_count": 227,
     "metadata": {},
     "output_type": "execute_result"
    }
   ],
   "source": [
    "washington_df = pd.read_csv('./dataset/washington.csv')\n",
    "washington_df.head(2)"
   ]
  },
  {
   "cell_type": "markdown",
   "id": "ddb23362",
   "metadata": {},
   "source": [
    "#### Renaming the columns by snake_case"
   ]
  },
  {
   "cell_type": "code",
   "execution_count": 228,
   "id": "fd9cd8ce",
   "metadata": {},
   "outputs": [],
   "source": [
    "chicago_df = chicago_df.rename({'Unnamed: 0': 'ride_id'}, axis = 1)\n",
    "chicago_df.columns= chicago_df.columns.str.strip().str.lower()\n",
    "chicago_df.columns= chicago_df.columns.str.replace(' ','_')\n",
    "\n",
    "newyork_df = newyork_df.rename({'Unnamed: 0': 'ride_id'}, axis = 1)\n",
    "newyork_df.columns= newyork_df.columns.str.strip().str.lower()\n",
    "newyork_df.columns= newyork_df.columns.str.replace(' ','_')\n",
    "\n",
    "washington_df = washington_df.rename({'Unnamed: 0': 'ride_id'}, axis = 1)\n",
    "washington_df.columns= washington_df.columns.str.strip().str.lower()\n",
    "washington_df.columns= washington_df.columns.str.replace(' ','_')"
   ]
  },
  {
   "cell_type": "code",
   "execution_count": 229,
   "id": "9e7cc2ec",
   "metadata": {
    "scrolled": true
   },
   "outputs": [
    {
     "name": "stdout",
     "output_type": "stream",
     "text": [
      "<class 'pandas.core.frame.DataFrame'>\n",
      "RangeIndex: 300000 entries, 0 to 299999\n",
      "Data columns (total 9 columns):\n",
      " #   Column         Non-Null Count   Dtype  \n",
      "---  ------         --------------   -----  \n",
      " 0   ride_id        300000 non-null  int64  \n",
      " 1   start_time     300000 non-null  object \n",
      " 2   end_time       300000 non-null  object \n",
      " 3   trip_duration  300000 non-null  int64  \n",
      " 4   start_station  300000 non-null  object \n",
      " 5   end_station    300000 non-null  object \n",
      " 6   user_type      300000 non-null  object \n",
      " 7   gender         238948 non-null  object \n",
      " 8   birth_year     238981 non-null  float64\n",
      "dtypes: float64(1), int64(2), object(6)\n",
      "memory usage: 20.6+ MB\n"
     ]
    }
   ],
   "source": [
    "chicago_df.info()"
   ]
  },
  {
   "cell_type": "code",
   "execution_count": 230,
   "id": "627d45bd",
   "metadata": {},
   "outputs": [
    {
     "name": "stdout",
     "output_type": "stream",
     "text": [
      "<class 'pandas.core.frame.DataFrame'>\n",
      "RangeIndex: 300000 entries, 0 to 299999\n",
      "Data columns (total 9 columns):\n",
      " #   Column         Non-Null Count   Dtype  \n",
      "---  ------         --------------   -----  \n",
      " 0   ride_id        300000 non-null  int64  \n",
      " 1   start_time     300000 non-null  object \n",
      " 2   end_time       300000 non-null  object \n",
      " 3   trip_duration  300000 non-null  int64  \n",
      " 4   start_station  300000 non-null  object \n",
      " 5   end_station    300000 non-null  object \n",
      " 6   user_type      299308 non-null  object \n",
      " 7   gender         270791 non-null  object \n",
      " 8   birth_year     271780 non-null  float64\n",
      "dtypes: float64(1), int64(2), object(6)\n",
      "memory usage: 20.6+ MB\n"
     ]
    }
   ],
   "source": [
    "newyork_df.info()"
   ]
  },
  {
   "cell_type": "markdown",
   "id": "e9b96f5f",
   "metadata": {},
   "source": [
    "#### Since the gender and birth year is not something we can fix by interpolation/extrapolation, so we will delete those rows."
   ]
  },
  {
   "cell_type": "code",
   "execution_count": 231,
   "id": "8708b75e",
   "metadata": {},
   "outputs": [],
   "source": [
    "na_free = chicago_df.dropna()\n",
    "chicago_only_na = chicago_df[~chicago_df.index.isin(na_free.index)]"
   ]
  },
  {
   "cell_type": "code",
   "execution_count": 232,
   "id": "0d8e9fb6",
   "metadata": {},
   "outputs": [],
   "source": [
    "na_free = newyork_df.dropna()\n",
    "newyork_only_na = newyork_df[~newyork_df.index.isin(na_free.index)]"
   ]
  },
  {
   "cell_type": "code",
   "execution_count": 233,
   "id": "09eb94f9",
   "metadata": {},
   "outputs": [],
   "source": [
    "chicago_df = chicago_df.dropna()\n",
    "newyork_df = newyork_df.dropna()\n",
    "washington_df = washington_df.dropna()"
   ]
  },
  {
   "cell_type": "markdown",
   "id": "35df11e0",
   "metadata": {},
   "source": [
    "#### Converting `birth_year` into int"
   ]
  },
  {
   "cell_type": "code",
   "execution_count": 234,
   "id": "4b17ccc4",
   "metadata": {},
   "outputs": [],
   "source": [
    "chicago_df.birth_year = chicago_df.birth_year.astype(int)\n",
    "newyork_df.birth_year = newyork_df.birth_year.astype(int)"
   ]
  },
  {
   "cell_type": "markdown",
   "id": "afcd57d0",
   "metadata": {},
   "source": [
    "#### Restricting the rows to age <= 105"
   ]
  },
  {
   "cell_type": "code",
   "execution_count": 235,
   "id": "6ebaa493",
   "metadata": {},
   "outputs": [],
   "source": [
    "chicago_df['age'] = chicago_df.apply(lambda x: datetime.now().year - x['birth_year'], axis=1)\n",
    "newyork_df['age'] = newyork_df.apply(lambda x: datetime.now().year - x['birth_year'], axis=1)"
   ]
  },
  {
   "cell_type": "code",
   "execution_count": 236,
   "id": "b2953200",
   "metadata": {},
   "outputs": [
    {
     "name": "stdout",
     "output_type": "stream",
     "text": [
      "132 54\n"
     ]
    },
    {
     "data": {
      "text/plain": [
       "count    238948.000000\n",
       "mean         40.141658\n",
       "std          11.004084\n",
       "min           5.000000\n",
       "25%          32.000000\n",
       "50%          37.000000\n",
       "75%          46.000000\n",
       "max         122.000000\n",
       "Name: age, dtype: float64"
      ]
     },
     "execution_count": 236,
     "metadata": {},
     "output_type": "execute_result"
    }
   ],
   "source": [
    "print(len(chicago_df.query('age >= 100')), len(chicago_df.query('age >= 105')))\n",
    "chicago_df.age.describe()"
   ]
  },
  {
   "cell_type": "code",
   "execution_count": 237,
   "id": "492d931b",
   "metadata": {},
   "outputs": [],
   "source": [
    "chicago_df = chicago_df.query('age <= 105')\n",
    "newyork_df = newyork_df.query('age <= 105')"
   ]
  },
  {
   "cell_type": "markdown",
   "id": "ef55e1d4",
   "metadata": {},
   "source": [
    "#### Converting gender and user_type to categorical data type"
   ]
  },
  {
   "cell_type": "code",
   "execution_count": 238,
   "id": "0a2d283d",
   "metadata": {},
   "outputs": [],
   "source": [
    "chicago_df.gender = chicago_df.gender.astype('category')\n",
    "chicago_df.user_type = chicago_df.user_type.astype('category')\n",
    "\n",
    "newyork_df.gender = pd.Categorical(newyork_df.gender)\n",
    "newyork_df.user_type = pd.Categorical(newyork_df.user_type)"
   ]
  },
  {
   "cell_type": "markdown",
   "id": "952a3db0",
   "metadata": {},
   "source": [
    "#### Converting `start_time` and `end_time` to datetime"
   ]
  },
  {
   "cell_type": "code",
   "execution_count": 239,
   "id": "d370efa4",
   "metadata": {},
   "outputs": [],
   "source": [
    "chicago_df['start_time'] = pd.to_datetime(chicago_df['start_time'])\n",
    "chicago_df['end_time'] = pd.to_datetime(chicago_df['end_time'])\n",
    "\n",
    "newyork_df['start_time'] = pd.to_datetime(newyork_df['start_time'])\n",
    "newyork_df['end_time'] = pd.to_datetime(newyork_df['end_time'])\n",
    "\n",
    "washington_df['start_time'] = pd.to_datetime(washington_df['start_time'])\n",
    "washington_df['end_time'] = pd.to_datetime(washington_df['end_time'])"
   ]
  },
  {
   "cell_type": "code",
   "execution_count": 240,
   "id": "ce67d14f",
   "metadata": {},
   "outputs": [],
   "source": [
    "chicago_cleaned_df = chicago_df.copy()\n",
    "newyork_cleaned_df = newyork_df.copy()\n",
    "washington_cleaned_df = washington_df.copy()"
   ]
  },
  {
   "cell_type": "markdown",
   "id": "4cbfaaf3",
   "metadata": {},
   "source": [
    "## Exploratory Data Analysis"
   ]
  },
  {
   "cell_type": "code",
   "execution_count": 241,
   "id": "2044ff32",
   "metadata": {},
   "outputs": [
    {
     "data": {
      "text/html": [
       "<div>\n",
       "<style scoped>\n",
       "    .dataframe tbody tr th:only-of-type {\n",
       "        vertical-align: middle;\n",
       "    }\n",
       "\n",
       "    .dataframe tbody tr th {\n",
       "        vertical-align: top;\n",
       "    }\n",
       "\n",
       "    .dataframe thead th {\n",
       "        text-align: right;\n",
       "    }\n",
       "</style>\n",
       "<table border=\"1\" class=\"dataframe\">\n",
       "  <thead>\n",
       "    <tr style=\"text-align: right;\">\n",
       "      <th></th>\n",
       "      <th>ride_id</th>\n",
       "      <th>start_time</th>\n",
       "      <th>end_time</th>\n",
       "      <th>trip_duration</th>\n",
       "      <th>start_station</th>\n",
       "      <th>end_station</th>\n",
       "      <th>user_type</th>\n",
       "      <th>gender</th>\n",
       "      <th>birth_year</th>\n",
       "      <th>age</th>\n",
       "    </tr>\n",
       "  </thead>\n",
       "  <tbody>\n",
       "    <tr>\n",
       "      <th>0</th>\n",
       "      <td>1423854</td>\n",
       "      <td>2017-06-23 15:09:32</td>\n",
       "      <td>2017-06-23 15:14:53</td>\n",
       "      <td>321</td>\n",
       "      <td>Wood St &amp; Hubbard St</td>\n",
       "      <td>Damen Ave &amp; Chicago Ave</td>\n",
       "      <td>Subscriber</td>\n",
       "      <td>Male</td>\n",
       "      <td>1992</td>\n",
       "      <td>29</td>\n",
       "    </tr>\n",
       "    <tr>\n",
       "      <th>1</th>\n",
       "      <td>955915</td>\n",
       "      <td>2017-05-25 18:19:03</td>\n",
       "      <td>2017-05-25 18:45:53</td>\n",
       "      <td>1610</td>\n",
       "      <td>Theater on the Lake</td>\n",
       "      <td>Sheffield Ave &amp; Waveland Ave</td>\n",
       "      <td>Subscriber</td>\n",
       "      <td>Female</td>\n",
       "      <td>1992</td>\n",
       "      <td>29</td>\n",
       "    </tr>\n",
       "    <tr>\n",
       "      <th>2</th>\n",
       "      <td>9031</td>\n",
       "      <td>2017-01-04 08:27:49</td>\n",
       "      <td>2017-01-04 08:34:45</td>\n",
       "      <td>416</td>\n",
       "      <td>May St &amp; Taylor St</td>\n",
       "      <td>Wood St &amp; Taylor St</td>\n",
       "      <td>Subscriber</td>\n",
       "      <td>Male</td>\n",
       "      <td>1981</td>\n",
       "      <td>40</td>\n",
       "    </tr>\n",
       "    <tr>\n",
       "      <th>3</th>\n",
       "      <td>304487</td>\n",
       "      <td>2017-03-06 13:49:38</td>\n",
       "      <td>2017-03-06 13:55:28</td>\n",
       "      <td>350</td>\n",
       "      <td>Christiana Ave &amp; Lawrence Ave</td>\n",
       "      <td>St. Louis Ave &amp; Balmoral Ave</td>\n",
       "      <td>Subscriber</td>\n",
       "      <td>Male</td>\n",
       "      <td>1986</td>\n",
       "      <td>35</td>\n",
       "    </tr>\n",
       "    <tr>\n",
       "      <th>4</th>\n",
       "      <td>45207</td>\n",
       "      <td>2017-01-17 14:53:07</td>\n",
       "      <td>2017-01-17 15:02:01</td>\n",
       "      <td>534</td>\n",
       "      <td>Clark St &amp; Randolph St</td>\n",
       "      <td>Desplaines St &amp; Jackson Blvd</td>\n",
       "      <td>Subscriber</td>\n",
       "      <td>Male</td>\n",
       "      <td>1975</td>\n",
       "      <td>46</td>\n",
       "    </tr>\n",
       "    <tr>\n",
       "      <th>...</th>\n",
       "      <td>...</td>\n",
       "      <td>...</td>\n",
       "      <td>...</td>\n",
       "      <td>...</td>\n",
       "      <td>...</td>\n",
       "      <td>...</td>\n",
       "      <td>...</td>\n",
       "      <td>...</td>\n",
       "      <td>...</td>\n",
       "      <td>...</td>\n",
       "    </tr>\n",
       "    <tr>\n",
       "      <th>299992</th>\n",
       "      <td>1327248</td>\n",
       "      <td>2017-06-17 16:44:16</td>\n",
       "      <td>2017-06-17 16:50:57</td>\n",
       "      <td>401</td>\n",
       "      <td>Sheffield Ave &amp; Willow St</td>\n",
       "      <td>Halsted St &amp; Dickens Ave</td>\n",
       "      <td>Subscriber</td>\n",
       "      <td>Male</td>\n",
       "      <td>1955</td>\n",
       "      <td>66</td>\n",
       "    </tr>\n",
       "    <tr>\n",
       "      <th>299994</th>\n",
       "      <td>935129</td>\n",
       "      <td>2017-05-23 17:08:04</td>\n",
       "      <td>2017-05-23 17:11:37</td>\n",
       "      <td>213</td>\n",
       "      <td>Indiana Ave &amp; 31st St</td>\n",
       "      <td>MLK Jr Dr &amp; 29th St</td>\n",
       "      <td>Subscriber</td>\n",
       "      <td>Male</td>\n",
       "      <td>1988</td>\n",
       "      <td>33</td>\n",
       "    </tr>\n",
       "    <tr>\n",
       "      <th>299995</th>\n",
       "      <td>64825</td>\n",
       "      <td>2017-01-21 13:18:00</td>\n",
       "      <td>2017-01-21 13:27:50</td>\n",
       "      <td>590</td>\n",
       "      <td>Orleans St &amp; Elm St (*)</td>\n",
       "      <td>Sheffield Ave &amp; Webster Ave</td>\n",
       "      <td>Subscriber</td>\n",
       "      <td>Male</td>\n",
       "      <td>1965</td>\n",
       "      <td>56</td>\n",
       "    </tr>\n",
       "    <tr>\n",
       "      <th>299997</th>\n",
       "      <td>159685</td>\n",
       "      <td>2017-02-12 09:59:01</td>\n",
       "      <td>2017-02-12 10:21:49</td>\n",
       "      <td>1368</td>\n",
       "      <td>Ravenswood Ave &amp; Lawrence Ave</td>\n",
       "      <td>Stockton Dr &amp; Wrightwood Ave</td>\n",
       "      <td>Subscriber</td>\n",
       "      <td>Female</td>\n",
       "      <td>1988</td>\n",
       "      <td>33</td>\n",
       "    </tr>\n",
       "    <tr>\n",
       "      <th>299999</th>\n",
       "      <td>1021247</td>\n",
       "      <td>2017-05-30 12:38:28</td>\n",
       "      <td>2017-05-30 12:55:36</td>\n",
       "      <td>1028</td>\n",
       "      <td>Wacker Dr &amp; Washington St</td>\n",
       "      <td>Damen Ave &amp; Division St</td>\n",
       "      <td>Subscriber</td>\n",
       "      <td>Male</td>\n",
       "      <td>1984</td>\n",
       "      <td>37</td>\n",
       "    </tr>\n",
       "  </tbody>\n",
       "</table>\n",
       "<p>238899 rows × 10 columns</p>\n",
       "</div>"
      ],
      "text/plain": [
       "        ride_id          start_time            end_time  trip_duration  \\\n",
       "0       1423854 2017-06-23 15:09:32 2017-06-23 15:14:53            321   \n",
       "1        955915 2017-05-25 18:19:03 2017-05-25 18:45:53           1610   \n",
       "2          9031 2017-01-04 08:27:49 2017-01-04 08:34:45            416   \n",
       "3        304487 2017-03-06 13:49:38 2017-03-06 13:55:28            350   \n",
       "4         45207 2017-01-17 14:53:07 2017-01-17 15:02:01            534   \n",
       "...         ...                 ...                 ...            ...   \n",
       "299992  1327248 2017-06-17 16:44:16 2017-06-17 16:50:57            401   \n",
       "299994   935129 2017-05-23 17:08:04 2017-05-23 17:11:37            213   \n",
       "299995    64825 2017-01-21 13:18:00 2017-01-21 13:27:50            590   \n",
       "299997   159685 2017-02-12 09:59:01 2017-02-12 10:21:49           1368   \n",
       "299999  1021247 2017-05-30 12:38:28 2017-05-30 12:55:36           1028   \n",
       "\n",
       "                        start_station                   end_station  \\\n",
       "0                Wood St & Hubbard St       Damen Ave & Chicago Ave   \n",
       "1                 Theater on the Lake  Sheffield Ave & Waveland Ave   \n",
       "2                  May St & Taylor St           Wood St & Taylor St   \n",
       "3       Christiana Ave & Lawrence Ave  St. Louis Ave & Balmoral Ave   \n",
       "4              Clark St & Randolph St  Desplaines St & Jackson Blvd   \n",
       "...                               ...                           ...   \n",
       "299992      Sheffield Ave & Willow St      Halsted St & Dickens Ave   \n",
       "299994          Indiana Ave & 31st St           MLK Jr Dr & 29th St   \n",
       "299995        Orleans St & Elm St (*)   Sheffield Ave & Webster Ave   \n",
       "299997  Ravenswood Ave & Lawrence Ave  Stockton Dr & Wrightwood Ave   \n",
       "299999      Wacker Dr & Washington St       Damen Ave & Division St   \n",
       "\n",
       "         user_type  gender  birth_year  age  \n",
       "0       Subscriber    Male        1992   29  \n",
       "1       Subscriber  Female        1992   29  \n",
       "2       Subscriber    Male        1981   40  \n",
       "3       Subscriber    Male        1986   35  \n",
       "4       Subscriber    Male        1975   46  \n",
       "...            ...     ...         ...  ...  \n",
       "299992  Subscriber    Male        1955   66  \n",
       "299994  Subscriber    Male        1988   33  \n",
       "299995  Subscriber    Male        1965   56  \n",
       "299997  Subscriber  Female        1988   33  \n",
       "299999  Subscriber    Male        1984   37  \n",
       "\n",
       "[238899 rows x 10 columns]"
      ]
     },
     "execution_count": 241,
     "metadata": {},
     "output_type": "execute_result"
    }
   ],
   "source": [
    "chicago_cleaned_df"
   ]
  },
  {
   "cell_type": "markdown",
   "id": "ff049281",
   "metadata": {},
   "source": [
    "#### Exploring the distribution of age"
   ]
  },
  {
   "cell_type": "code",
   "execution_count": 242,
   "id": "c84b4e23",
   "metadata": {
    "scrolled": true
   },
   "outputs": [],
   "source": [
    "age_bins = [0,30, 40, 50, 60, 105]\n",
    "age_labels = ['<=30','30<age<=40','40<age<=50', '50<age<=60', '60<age<=105']\n",
    "\n",
    "age_categories_chicago = pd.cut(\n",
    "    chicago_cleaned_df.age,\n",
    "    bins=age_bins,\n",
    "    labels=age_labels\n",
    ")\n",
    "\n",
    "age_categories_newyork = pd.cut(\n",
    "    newyork_cleaned_df.age,\n",
    "    bins=age_bins,\n",
    "    labels=age_labels\n",
    ")"
   ]
  },
  {
   "cell_type": "code",
   "execution_count": 243,
   "id": "dd7cd8fe",
   "metadata": {},
   "outputs": [
    {
     "data": {
      "image/png": "[encoded data removed]",
      "text/plain": [
       "<Figure size 576x360 with 1 Axes>"
      ]
     },
     "metadata": {},
     "output_type": "display_data"
    }
   ],
   "source": [
    "fig, ax = plt.subplots(figsize=(8, 5), sharey=True, sharex=True)\n",
    "\n",
    "sns.countplot(\n",
    "    x=age_categories_chicago,\n",
    "    ax=ax,\n",
    "    color='b',\n",
    "    alpha=0.5,\n",
    "    label='Chicago'\n",
    ")\n",
    "\n",
    "sns.countplot(\n",
    "    x=age_categories_newyork,\n",
    "    ax=ax,\n",
    "    color='r',\n",
    "    alpha=0.5,\n",
    "    label='New York'\n",
    ")\n",
    "\n",
    "plt.legend();"
   ]
  },
  {
   "cell_type": "markdown",
   "id": "291d4195",
   "metadata": {},
   "source": [
    "#### Exploring the correlation between `age` and `gender` in chicago and new york"
   ]
  },
  {
   "cell_type": "code",
   "execution_count": 244,
   "id": "e464815e",
   "metadata": {},
   "outputs": [],
   "source": [
    "chicago_males = chicago_cleaned_df.query('gender == \"Male\"')\n",
    "chicago_females = chicago_cleaned_df.query('gender == \"Female\"')\n",
    "\n",
    "newyork_males = newyork_cleaned_df.query('gender == \"Male\"')\n",
    "newyork_females = newyork_cleaned_df.query('gender == \"Female\"')"
   ]
  },
  {
   "cell_type": "code",
   "execution_count": 245,
   "id": "ac23ffbc",
   "metadata": {},
   "outputs": [
    {
     "data": {
      "image/png": "[encoded data removed]",
      "text/plain": [
       "<Figure size 720x360 with 2 Axes>"
      ]
     },
     "metadata": {},
     "output_type": "display_data"
    }
   ],
   "source": [
    "fig, (ax1, ax2) = plt.subplots(1, 2, figsize=(10, 5), sharey=True)\n",
    "\n",
    "sns.histplot(\n",
    "    x=chicago_males.age,\n",
    "    bins=age_bins,\n",
    "    ax=ax1,\n",
    "    color='b',\n",
    "    label='Male'\n",
    ")\n",
    "\n",
    "sns.histplot(\n",
    "    x=chicago_females.age,\n",
    "    bins=age_bins,\n",
    "    ax=ax1,\n",
    "    color='r',\n",
    "    label='Female'\n",
    ")\n",
    "\n",
    "sns.histplot(\n",
    "    x=newyork_males.age,\n",
    "    bins=age_bins,\n",
    "    ax=ax2,\n",
    "    color='b',\n",
    "    label='Male'\n",
    ")\n",
    "\n",
    "sns.histplot(\n",
    "    x=newyork_females.age,\n",
    "    bins=age_bins,\n",
    "    ax=ax2,\n",
    "    color='r',\n",
    "    label='Female'\n",
    ")\n",
    "ax1.set_title(\"Chicago\")\n",
    "ax2.set_title(\"New York\")\n",
    "plt.legend();"
   ]
  },
  {
   "cell_type": "markdown",
   "id": "95d78a49",
   "metadata": {},
   "source": [
    "#### Exploring the correlation between `age` and `trip_duration` in chicago and new york"
   ]
  },
  {
   "cell_type": "code",
   "execution_count": 246,
   "id": "bdb274cf",
   "metadata": {},
   "outputs": [
    {
     "data": {
      "image/png": "[encoded data removed]",
      "text/plain": [
       "<Figure size 720x432 with 2 Axes>"
      ]
     },
     "metadata": {},
     "output_type": "display_data"
    }
   ],
   "source": [
    "fig, (ax1, ax2) = plt.subplots(1, 2, figsize=(10, 6))\n",
    "\n",
    "ax1 = sns.scatterplot(\n",
    "    data=chicago_cleaned_df,\n",
    "    y=\"trip_duration\",\n",
    "    x=\"age\",\n",
    "    ax=ax1,\n",
    "    label='Chicago'\n",
    ");\n",
    "\n",
    "ax2 = sns.scatterplot(\n",
    "    data=newyork_cleaned_df[newyork_cleaned_df.trip_duration <= 1e5],\n",
    "    y=\"trip_duration\",\n",
    "    x=\"age\",\n",
    "    ax=ax2,\n",
    "    label='New York',\n",
    "    color='red'\n",
    ");"
   ]
  },
  {
   "cell_type": "code",
   "execution_count": 247,
   "id": "23a006d5",
   "metadata": {},
   "outputs": [],
   "source": [
    "chicago_cleaned_df['trip_end_hour'] = chicago_cleaned_df['end_time'].dt.hour\n",
    "newyork_cleaned_df['trip_end_hour'] = newyork_cleaned_df['end_time'].dt.hour\n",
    "washington_cleaned_df['trip_end_hour'] = washington_cleaned_df['end_time'].dt.hour\n",
    "\n",
    "chicago_cleaned_df['trip_day_night'] = chicago_cleaned_df.trip_end_hour.apply(\n",
    "    lambda x: 0 if x >= 6 and x <= 18 else 1\n",
    ")\n",
    "newyork_cleaned_df['trip_day_night'] = newyork_cleaned_df.trip_end_hour.apply(\n",
    "    lambda x: 0 if x >= 6 and x <= 18 else 1\n",
    ")\n",
    "washington_cleaned_df['trip_day_night'] = washington_cleaned_df.trip_end_hour.apply(\n",
    "    lambda x: 0 if x >= 6 and x <= 18 else 1\n",
    ")"
   ]
  },
  {
   "cell_type": "code",
   "execution_count": 248,
   "id": "d0ad05cf",
   "metadata": {},
   "outputs": [
    {
     "data": {
      "image/png": "[encoded data removed]",
      "text/plain": [
       "<Figure size 864x288 with 3 Axes>"
      ]
     },
     "metadata": {},
     "output_type": "display_data"
    }
   ],
   "source": [
    "fig, (ax1, ax2, ax3) = plt.subplots(1, 3, figsize=(12, 4), sharey=True)\n",
    "\n",
    "sns.countplot(\n",
    "    x=chicago_cleaned_df.trip_day_night,\n",
    "    ax=ax1,\n",
    "    color='b',\n",
    "    alpha=0.5,\n",
    "    label='Chicago'\n",
    ")\n",
    "\n",
    "sns.countplot(\n",
    "    x=newyork_cleaned_df.trip_day_night,\n",
    "    ax=ax1,\n",
    "    color='r',\n",
    "    alpha=0.5,\n",
    "    label='New York'\n",
    ")\n",
    "\n",
    "chicago_cleaned_df.groupby(['trip_day_night', 'gender']).ride_id.count().T.unstack().plot(\n",
    "    kind='bar',\n",
    "    stacked=True,\n",
    "    color=[\"grey\", \"red\"],\n",
    "    ax=ax2\n",
    ")\n",
    "\n",
    "newyork_cleaned_df.groupby(['trip_day_night', 'gender']).ride_id.count().T.unstack().plot(\n",
    "    kind='bar',\n",
    "    stacked=True,\n",
    "    color=[\"grey\", \"red\"],\n",
    "    ax=ax3\n",
    ")\n",
    "\n",
    "ax1.set_xticklabels(labels=[\"day\", \"night\"], rotation=0)\n",
    "ax1.set_xlabel(\"\")\n",
    "ax1.set_title(\"Overall day vs Night\");\n",
    "\n",
    "ax2.set_xticklabels(labels=[\"day\", \"night\"], rotation=0)\n",
    "ax2.set_xlabel(\"\")\n",
    "ax2.set_title(\"Chicago\");\n",
    "\n",
    "ax3.set_xticklabels(labels=[\"day\", \"night\"], rotation=0)\n",
    "ax3.set_xlabel(\"\")\n",
    "ax3.set_title(\"New York\");\n",
    "ax1.legend();"
   ]
  },
  {
   "cell_type": "code",
   "execution_count": 249,
   "id": "be4bf1f4",
   "metadata": {},
   "outputs": [],
   "source": [
    "chicago_cleaned_df['trip_duration_binary'] = chicago_cleaned_df['trip_duration'].apply(\n",
    "    lambda x: 0 if x <= 700 else 1)\n",
    "\n",
    "newyork_cleaned_df['trip_duration_binary'] = newyork_cleaned_df['trip_duration'].apply(\n",
    "    lambda x: 0 if x <= 700 else 1)\n",
    "\n",
    "washington_cleaned_df['trip_duration_binary'] = washington_cleaned_df['trip_duration'].apply(\n",
    "    lambda x: 0 if x <= 700 else 1)"
   ]
  },
  {
   "cell_type": "code",
   "execution_count": 250,
   "id": "11d41f6c",
   "metadata": {},
   "outputs": [
    {
     "data": {
      "image/png": "[encoded data removed]",
      "text/plain": [
       "<Figure size 576x288 with 2 Axes>"
      ]
     },
     "metadata": {},
     "output_type": "display_data"
    }
   ],
   "source": [
    "fig, (ax1, ax2) = plt.subplots(1, 2, figsize=(8, 4), sharey=True)\n",
    "chicago_cleaned_df.groupby(['trip_duration_binary', 'gender']).ride_id.count().T.unstack().plot(\n",
    "    kind='bar',\n",
    "    stacked=True,\n",
    "    color=[\"grey\", \"red\"],\n",
    "    ax=ax1\n",
    ")\n",
    "\n",
    "newyork_cleaned_df.groupby(['trip_duration_binary', 'gender']).ride_id.count().T.unstack().plot(\n",
    "    kind='bar',\n",
    "    stacked=True,\n",
    "    color=[\"grey\", \"red\"],\n",
    "    ax=ax2\n",
    ")\n",
    "\n",
    "ax1.set_xticklabels(labels=[\"short\", \"long\"], rotation=0)\n",
    "ax1.set_xlabel(\"\")\n",
    "ax1.set_title(\"Chicago\");\n",
    "ax2.set_xticklabels(labels=[\"short\", \"long\"], rotation=0)\n",
    "ax2.set_xlabel(\"\")\n",
    "ax2.set_title(\"New York\");"
   ]
  },
  {
   "cell_type": "markdown",
   "id": "16c57838",
   "metadata": {},
   "source": [
    "males and females both prefer shorter drives over longer drives"
   ]
  },
  {
   "cell_type": "code",
   "execution_count": 251,
   "id": "3267ba5d",
   "metadata": {},
   "outputs": [
    {
     "name": "stdout",
     "output_type": "stream",
     "text": [
      "Males in Chicago =  181141\n",
      "Females in Chicago =  57758\n",
      "Ratio: 3.136206239828249\n"
     ]
    }
   ],
   "source": [
    "print('Males in Chicago = ', len(chicago_males))\n",
    "print('Females in Chicago = ', len(chicago_females))\n",
    "print('Ratio:', len(chicago_males) / len(chicago_females))"
   ]
  },
  {
   "cell_type": "code",
   "execution_count": 252,
   "id": "44d3b243",
   "metadata": {},
   "outputs": [
    {
     "name": "stdout",
     "output_type": "stream",
     "text": [
      "Males in Newyork =  203477\n",
      "Females in Newyork =  66557\n",
      "Ratio: 3.057184067791517\n"
     ]
    }
   ],
   "source": [
    "print('Males in Newyork = ', len(newyork_males))\n",
    "print('Females in Newyork = ', len(newyork_females))\n",
    "print('Ratio:', len(newyork_males) / len(newyork_females))"
   ]
  },
  {
   "cell_type": "markdown",
   "id": "65c9a2d2",
   "metadata": {},
   "source": [
    "#### T-test and ANOVA"
   ]
  },
  {
   "cell_type": "code",
   "execution_count": 253,
   "id": "7d5f4022",
   "metadata": {},
   "outputs": [
    {
     "name": "stdout",
     "output_type": "stream",
     "text": [
      "t: -22.890, p: 0.000\n"
     ]
    },
    {
     "data": {
      "text/html": [
       "<div>\n",
       "<style scoped>\n",
       "    .dataframe tbody tr th:only-of-type {\n",
       "        vertical-align: middle;\n",
       "    }\n",
       "\n",
       "    .dataframe tbody tr th {\n",
       "        vertical-align: top;\n",
       "    }\n",
       "\n",
       "    .dataframe thead th {\n",
       "        text-align: right;\n",
       "    }\n",
       "</style>\n",
       "<table border=\"1\" class=\"dataframe\">\n",
       "  <thead>\n",
       "    <tr style=\"text-align: right;\">\n",
       "      <th></th>\n",
       "      <th>sum_sq</th>\n",
       "      <th>df</th>\n",
       "      <th>F</th>\n",
       "      <th>PR(&gt;F)</th>\n",
       "    </tr>\n",
       "  </thead>\n",
       "  <tbody>\n",
       "    <tr>\n",
       "      <th>gender</th>\n",
       "      <td>5.141940e+08</td>\n",
       "      <td>1.0</td>\n",
       "      <td>523.932665</td>\n",
       "      <td>7.870363e-116</td>\n",
       "    </tr>\n",
       "    <tr>\n",
       "      <th>Residual</th>\n",
       "      <td>2.344565e+11</td>\n",
       "      <td>238897.0</td>\n",
       "      <td>NaN</td>\n",
       "      <td>NaN</td>\n",
       "    </tr>\n",
       "  </tbody>\n",
       "</table>\n",
       "</div>"
      ],
      "text/plain": [
       "                sum_sq        df           F         PR(>F)\n",
       "gender    5.141940e+08       1.0  523.932665  7.870363e-116\n",
       "Residual  2.344565e+11  238897.0         NaN            NaN"
      ]
     },
     "execution_count": 253,
     "metadata": {},
     "output_type": "execute_result"
    }
   ],
   "source": [
    "group1 = chicago_cleaned_df['trip_duration'][chicago_cleaned_df['gender'] == 'Male']\n",
    "group2 = chicago_cleaned_df['trip_duration'][chicago_cleaned_df['gender'] == 'Female']\n",
    "t_test = stats.ttest_ind(group1, group2)\n",
    "print(f't: {t_test.statistic:.3f}, p: {t_test.pvalue:.3f}')\n",
    "model = ols('trip_duration ~ gender', data=chicago_cleaned_df).fit()\n",
    "sm.stats.anova_lm(model, typ=2)"
   ]
  },
  {
   "cell_type": "code",
   "execution_count": 254,
   "id": "96056ab9",
   "metadata": {},
   "outputs": [
    {
     "name": "stdout",
     "output_type": "stream",
     "text": [
      "t: 2.897, p: 0.004\n"
     ]
    },
    {
     "data": {
      "text/html": [
       "<div>\n",
       "<style scoped>\n",
       "    .dataframe tbody tr th:only-of-type {\n",
       "        vertical-align: middle;\n",
       "    }\n",
       "\n",
       "    .dataframe tbody tr th {\n",
       "        vertical-align: top;\n",
       "    }\n",
       "\n",
       "    .dataframe thead th {\n",
       "        text-align: right;\n",
       "    }\n",
       "</style>\n",
       "<table border=\"1\" class=\"dataframe\">\n",
       "  <thead>\n",
       "    <tr style=\"text-align: right;\">\n",
       "      <th></th>\n",
       "      <th>sum_sq</th>\n",
       "      <th>df</th>\n",
       "      <th>F</th>\n",
       "      <th>PR(&gt;F)</th>\n",
       "    </tr>\n",
       "  </thead>\n",
       "  <tbody>\n",
       "    <tr>\n",
       "      <th>gender</th>\n",
       "      <td>1.190242</td>\n",
       "      <td>1.0</td>\n",
       "      <td>8.393973</td>\n",
       "      <td>0.003765</td>\n",
       "    </tr>\n",
       "    <tr>\n",
       "      <th>Residual</th>\n",
       "      <td>33874.940440</td>\n",
       "      <td>238897.0</td>\n",
       "      <td>NaN</td>\n",
       "      <td>NaN</td>\n",
       "    </tr>\n",
       "  </tbody>\n",
       "</table>\n",
       "</div>"
      ],
      "text/plain": [
       "                sum_sq        df         F    PR(>F)\n",
       "gender        1.190242       1.0  8.393973  0.003765\n",
       "Residual  33874.940440  238897.0       NaN       NaN"
      ]
     },
     "execution_count": 254,
     "metadata": {},
     "output_type": "execute_result"
    }
   ],
   "source": [
    "group1 = chicago_cleaned_df['trip_day_night'][chicago_cleaned_df['gender'] == 'Male']\n",
    "group2 = chicago_cleaned_df['trip_day_night'][chicago_cleaned_df['gender'] == 'Female']\n",
    "t_test = stats.ttest_ind(group1, group2)\n",
    "print(f't: {t_test.statistic:.3f}, p: {t_test.pvalue:.3f}')\n",
    "model = ols('trip_day_night ~ gender', data=chicago_cleaned_df).fit()\n",
    "sm.stats.anova_lm(model, typ=2)"
   ]
  },
  {
   "cell_type": "code",
   "execution_count": 255,
   "id": "42866e09",
   "metadata": {},
   "outputs": [
    {
     "name": "stdout",
     "output_type": "stream",
     "text": [
      "t: -3.847, p: 0.000\n"
     ]
    },
    {
     "data": {
      "text/html": [
       "<div>\n",
       "<style scoped>\n",
       "    .dataframe tbody tr th:only-of-type {\n",
       "        vertical-align: middle;\n",
       "    }\n",
       "\n",
       "    .dataframe tbody tr th {\n",
       "        vertical-align: top;\n",
       "    }\n",
       "\n",
       "    .dataframe thead th {\n",
       "        text-align: right;\n",
       "    }\n",
       "</style>\n",
       "<table border=\"1\" class=\"dataframe\">\n",
       "  <thead>\n",
       "    <tr style=\"text-align: right;\">\n",
       "      <th></th>\n",
       "      <th>sum_sq</th>\n",
       "      <th>df</th>\n",
       "      <th>F</th>\n",
       "      <th>PR(&gt;F)</th>\n",
       "    </tr>\n",
       "  </thead>\n",
       "  <tbody>\n",
       "    <tr>\n",
       "      <th>gender</th>\n",
       "      <td>3.423954e+02</td>\n",
       "      <td>1.0</td>\n",
       "      <td>14.802525</td>\n",
       "      <td>0.000119</td>\n",
       "    </tr>\n",
       "    <tr>\n",
       "      <th>Residual</th>\n",
       "      <td>5.525898e+06</td>\n",
       "      <td>238897.0</td>\n",
       "      <td>NaN</td>\n",
       "      <td>NaN</td>\n",
       "    </tr>\n",
       "  </tbody>\n",
       "</table>\n",
       "</div>"
      ],
      "text/plain": [
       "                sum_sq        df          F    PR(>F)\n",
       "gender    3.423954e+02       1.0  14.802525  0.000119\n",
       "Residual  5.525898e+06  238897.0        NaN       NaN"
      ]
     },
     "execution_count": 255,
     "metadata": {},
     "output_type": "execute_result"
    }
   ],
   "source": [
    "group1 = chicago_cleaned_df['trip_end_hour'][chicago_cleaned_df['gender'] == 'Male']\n",
    "group2 = chicago_cleaned_df['trip_end_hour'][chicago_cleaned_df['gender'] == 'Female']\n",
    "t_test = stats.ttest_ind(group1, group2)\n",
    "print(f't: {t_test.statistic:.3f}, p: {t_test.pvalue:.3f}')\n",
    "model = ols('trip_end_hour ~ gender', data=chicago_cleaned_df).fit()\n",
    "sm.stats.anova_lm(model, typ=2)"
   ]
  },
  {
   "cell_type": "markdown",
   "id": "4a754d0b",
   "metadata": {},
   "source": [
    "#### We see a significant correlation between the above chosen variables and gender. Hence can be used as accurate predictors."
   ]
  },
  {
   "cell_type": "markdown",
   "id": "be8ef9bf",
   "metadata": {},
   "source": [
    "# Regression Algorithms"
   ]
  },
  {
   "cell_type": "markdown",
   "id": "8b98df6d",
   "metadata": {},
   "source": [
    "### Importing Dependencies"
   ]
  },
  {
   "cell_type": "code",
   "execution_count": 256,
   "id": "022790fd",
   "metadata": {},
   "outputs": [],
   "source": [
    "from math import sqrt\n",
    "from numpy import mean\n",
    "from sklearn.model_selection import train_test_split\n",
    "from sklearn.metrics import mean_squared_error, accuracy_score\n",
    "from sklearn.linear_model import LogisticRegression\n",
    "from sklearn.tree import DecisionTreeClassifier\n",
    "from sklearn.model_selection import cross_val_score\n",
    "from sklearn.model_selection import RepeatedStratifiedKFold\n",
    "from sklearn.model_selection import GridSearchCV\n",
    "from sklearn.ensemble import (\n",
    "    BaggingClassifier,\n",
    "    AdaBoostClassifier,\n",
    "    RandomForestClassifier\n",
    ")\n",
    "from sklearn.metrics import roc_auc_score, accuracy_score\n",
    "RANDOM_STATE = 42"
   ]
  },
  {
   "cell_type": "markdown",
   "id": "2ae52e3d",
   "metadata": {},
   "source": [
    "### Logistic Regression "
   ]
  },
  {
   "cell_type": "markdown",
   "id": "bfb24fe6",
   "metadata": {},
   "source": [
    "### Logistic Regression (Chicago)"
   ]
  },
  {
   "cell_type": "code",
   "execution_count": 257,
   "id": "f843c373",
   "metadata": {},
   "outputs": [],
   "source": [
    "chicago_cleaned_df['user_type_binary'] = chicago_cleaned_df['user_type'].apply(\n",
    "    lambda x: 1 if x == 'Subscriber' else 0)\n",
    "\n",
    "chicago_cleaned_df['gender_binary'] = chicago_cleaned_df['gender'].apply(\n",
    "    lambda x: 1 if x == 'Female' else 0)"
   ]
  },
  {
   "cell_type": "code",
   "execution_count": 258,
   "id": "fa63a048",
   "metadata": {},
   "outputs": [],
   "source": [
    "chicago_males = chicago_cleaned_df.query('gender == \"Male\"')\n",
    "chicago_females = chicago_cleaned_df.query('gender == \"Female\"')"
   ]
  },
  {
   "cell_type": "code",
   "execution_count": 259,
   "id": "2223b4f5",
   "metadata": {},
   "outputs": [
    {
     "data": {
      "text/plain": [
       "Male      69309\n",
       "Female    57758\n",
       "Name: gender, dtype: int64"
      ]
     },
     "execution_count": 259,
     "metadata": {},
     "output_type": "execute_result"
    }
   ],
   "source": [
    "chicago_train = chicago_females.append(\n",
    "    chicago_males.sample(int(len(chicago_females) * 1.2), random_state=RANDOM_STATE))\n",
    "chicago_train.gender.value_counts()"
   ]
  },
  {
   "cell_type": "code",
   "execution_count": 260,
   "id": "05f68e69",
   "metadata": {},
   "outputs": [
    {
     "name": "stdout",
     "output_type": "stream",
     "text": [
      "Accuracy score : 0.559767401189227\n",
      "0    101105\n",
      "1     13255\n",
      "dtype: int64\n"
     ]
    }
   ],
   "source": [
    "target = chicago_train[['gender_binary']]\n",
    "features = chicago_train[\n",
    "    ['trip_duration','user_type_binary', 'trip_day_night', 'trip_end_hour']\n",
    "]\n",
    "\n",
    "scaler = StandardScaler()\n",
    "features_scaled = scaler.fit_transform(features)\n",
    "\n",
    "X_train, X_test, y_train, y_test = train_test_split(\n",
    "    features_scaled, target, train_size=0.9, random_state=RANDOM_STATE\n",
    ")\n",
    "\n",
    "chicago_logistic_regression = LogisticRegression()\n",
    "chicago_logistic_regression.fit(X_train, y_train.values.ravel())\n",
    "y_pred = chicago_logistic_regression.predict(X_train)\n",
    "\n",
    "print(f'Accuracy score : {accuracy_score(y_pred, y_train)}')\n",
    "print(pd.DataFrame(y_pred).value_counts())"
   ]
  },
  {
   "cell_type": "code",
   "execution_count": 261,
   "id": "530b4f5c",
   "metadata": {},
   "outputs": [
    {
     "name": "stdout",
     "output_type": "stream",
     "text": [
      "Accuracy: 0.24176744147108192\n",
      "AUROC : 0.5012369904511736\n"
     ]
    },
    {
     "name": "stderr",
     "output_type": "stream",
     "text": [
      "/opt/conda/lib/python3.9/site-packages/sklearn/base.py:438: UserWarning: X has feature names, but LogisticRegression was fitted without feature names\n",
      "  warnings.warn(\n",
      "/opt/conda/lib/python3.9/site-packages/sklearn/base.py:438: UserWarning: X has feature names, but LogisticRegression was fitted without feature names\n",
      "  warnings.warn(\n"
     ]
    }
   ],
   "source": [
    "target = chicago_cleaned_df[['gender_binary']]\n",
    "features = chicago_cleaned_df[\n",
    "    ['trip_duration','user_type_binary', 'trip_day_night', 'trip_end_hour']\n",
    "]\n",
    "\n",
    "y_pred = chicago_logistic_regression.predict(features)\n",
    "\n",
    "print(f'Accuracy: {accuracy_score(y_pred, target)}')\n",
    "pd.DataFrame(y_pred).value_counts()\n",
    "\n",
    "prob_y_pred = chicago_logistic_regression.predict_proba(features)\n",
    "prob_y_pred = [p[1] for p in prob_y_pred]\n",
    "print(f'AUROC : {roc_auc_score(target, prob_y_pred)}')"
   ]
  },
  {
   "cell_type": "markdown",
   "id": "eb83728d",
   "metadata": {},
   "source": [
    "#### Observations :-\n",
    "- Using Logistic Regression, the predicted male to female ratio for Chicago is about $\\mathbf{3.86 : 1}$.\n",
    "- This prediction is very close to the actual ratio of $\\mathbf{3.13 : 1}$."
   ]
  },
  {
   "cell_type": "markdown",
   "id": "b9d02878",
   "metadata": {},
   "source": [
    "### Logistic Regression (NewYork)"
   ]
  },
  {
   "cell_type": "code",
   "execution_count": 262,
   "id": "7dacf713",
   "metadata": {},
   "outputs": [],
   "source": [
    "newyork_cleaned_df['user_type_binary'] = newyork_cleaned_df['user_type'].apply(\n",
    "    lambda x: 1 if x == 'Subscriber' else 0)\n",
    "\n",
    "newyork_cleaned_df['gender_binary'] = newyork_cleaned_df['gender'].apply(\n",
    "    lambda x: 1 if x == 'Female' else 0)"
   ]
  },
  {
   "cell_type": "code",
   "execution_count": 263,
   "id": "dd0f365c",
   "metadata": {},
   "outputs": [],
   "source": [
    "newyork_males = newyork_cleaned_df.query('gender == \"Male\"')\n",
    "newyork_females = newyork_cleaned_df.query('gender == \"Female\"')"
   ]
  },
  {
   "cell_type": "code",
   "execution_count": 264,
   "id": "2c9a9dbd",
   "metadata": {},
   "outputs": [
    {
     "data": {
      "text/plain": [
       "Male      79868\n",
       "Female    66557\n",
       "Name: gender, dtype: int64"
      ]
     },
     "execution_count": 264,
     "metadata": {},
     "output_type": "execute_result"
    }
   ],
   "source": [
    "newyork_train = newyork_females.append(\n",
    "    newyork_males.sample(\n",
    "        int(len(newyork_females) * 1.2),\n",
    "        random_state=RANDOM_STATE\n",
    "    )\n",
    ")\n",
    "newyork_train.gender.value_counts()"
   ]
  },
  {
   "cell_type": "code",
   "execution_count": 265,
   "id": "ac6cf0e3",
   "metadata": {},
   "outputs": [
    {
     "name": "stdout",
     "output_type": "stream",
     "text": [
      "0.45755110713147473 0.5424488928685253\n"
     ]
    },
    {
     "data": {
      "text/plain": [
       "0    129088\n",
       "1      2694\n",
       "dtype: int64"
      ]
     },
     "execution_count": 265,
     "metadata": {},
     "output_type": "execute_result"
    }
   ],
   "source": [
    "target = newyork_train[['gender_binary']]\n",
    "features = newyork_train[\n",
    "    ['trip_duration','user_type_binary', 'trip_day_night', 'trip_end_hour']\n",
    "]\n",
    "\n",
    "X_train, X_test, y_train, y_test = train_test_split(\n",
    "    features, target, train_size=0.9, random_state=RANDOM_STATE\n",
    ")\n",
    "\n",
    "newyork_logistic_regression = LogisticRegression()\n",
    "newyork_logistic_regression.fit(X_train, y_train.values.ravel())\n",
    "y_pred = newyork_logistic_regression.predict(X_train)\n",
    "print(mean_squared_error(y_pred, y_train), accuracy_score(y_pred, y_train))\n",
    "pd.DataFrame(y_pred).value_counts()"
   ]
  },
  {
   "cell_type": "code",
   "execution_count": 266,
   "id": "e8d274a8",
   "metadata": {},
   "outputs": [
    {
     "name": "stdout",
     "output_type": "stream",
     "text": [
      "Accuracy score : 0.7422806017020079\n",
      "0    264438\n",
      "1      5596\n",
      "dtype: int64\n",
      "AUROC : 0.5259458021678607\n"
     ]
    }
   ],
   "source": [
    "target = newyork_cleaned_df[['gender_binary']]\n",
    "features = newyork_cleaned_df[\n",
    "    ['trip_duration','user_type_binary', 'trip_day_night', 'trip_end_hour']\n",
    "]\n",
    "\n",
    "y_pred = newyork_logistic_regression.predict(features)\n",
    "\n",
    "print(f'Accuracy score : {accuracy_score(y_pred, target)}')\n",
    "print(pd.DataFrame(y_pred).value_counts())\n",
    "prob_y_pred = newyork_logistic_regression.predict_proba(features)\n",
    "prob_y_pred = [p[1] for p in prob_y_pred]\n",
    "print(f'AUROC : {roc_auc_score(target, prob_y_pred)}')"
   ]
  },
  {
   "cell_type": "code",
   "execution_count": 267,
   "id": "f51709fd",
   "metadata": {},
   "outputs": [
    {
     "data": {
      "text/plain": [
       "Male      203477\n",
       "Female     66557\n",
       "Name: gender, dtype: int64"
      ]
     },
     "execution_count": 267,
     "metadata": {},
     "output_type": "execute_result"
    }
   ],
   "source": [
    "newyork_cleaned_df.gender.value_counts()"
   ]
  },
  {
   "cell_type": "markdown",
   "id": "f622ccca",
   "metadata": {},
   "source": [
    "#### Observations :-\n",
    "- Using Logistic Regression, the predicted male to female ratio for New York is about $\\mathbf{3.13 : 1}$.\n",
    "- This prediction is very close to the actual ratio of $\\mathbf{3.13 : 1}$."
   ]
  },
  {
   "cell_type": "markdown",
   "id": "fa5ed82d",
   "metadata": {},
   "source": [
    "## Decision Tree"
   ]
  },
  {
   "cell_type": "code",
   "execution_count": 268,
   "id": "ef3545d6",
   "metadata": {},
   "outputs": [],
   "source": [
    "decision_tree = DecisionTreeClassifier(\n",
    "    criterion='entropy',\n",
    "    max_depth=10,\n",
    "    random_state=RANDOM_STATE,\n",
    "    splitter='best',\n",
    "    max_leaf_nodes=5,\n",
    ")"
   ]
  },
  {
   "cell_type": "markdown",
   "id": "41a49b15",
   "metadata": {},
   "source": [
    "### Decision Tree (Chicago)"
   ]
  },
  {
   "cell_type": "code",
   "execution_count": 269,
   "id": "a438dc5d",
   "metadata": {},
   "outputs": [
    {
     "name": "stdout",
     "output_type": "stream",
     "text": [
      "Mean ROC AUC: 0.565\n",
      "0    187630\n",
      "1     51269\n",
      "dtype: int64\n",
      "AUROC : 0.5632718732305986, Accuracy score : 0.6768215856910242\n"
     ]
    }
   ],
   "source": [
    "target = chicago_cleaned_df[['gender_binary']]\n",
    "features = chicago_cleaned_df[\n",
    "    ['trip_duration','user_type_binary', 'trip_day_night', 'trip_end_hour']\n",
    "]\n",
    "\n",
    "cv = RepeatedStratifiedKFold(n_splits=10, n_repeats=3, random_state=1)\n",
    "\n",
    "scores = cross_val_score(decision_tree, features, target, scoring='roc_auc', cv=cv, n_jobs=-1)\n",
    "\n",
    "print('Mean ROC AUC: %.3f' % mean(scores))\n",
    "\n",
    "decision_tree.fit(X_train, y_train);\n",
    "\n",
    "features = chicago_cleaned_df[\n",
    "    ['trip_duration','user_type_binary', 'trip_day_night', 'trip_end_hour']\n",
    "]\n",
    "\n",
    "target = chicago_train[['gender_binary']]\n",
    "features = chicago_train[\n",
    "    ['trip_duration','user_type_binary', 'trip_day_night', 'trip_end_hour']\n",
    "]\n",
    "\n",
    "X_train, X_test, y_train, y_test = train_test_split(\n",
    "    features, target, train_size=0.9, random_state=RANDOM_STATE\n",
    ")\n",
    "\n",
    "\n",
    "target = chicago_cleaned_df[['gender_binary']]\n",
    "features = chicago_cleaned_df[\n",
    "    ['trip_duration','user_type_binary', 'trip_day_night', 'trip_end_hour']\n",
    "]\n",
    "y_pred = decision_tree.predict(features)\n",
    "print(pd.DataFrame(y_pred).value_counts())\n",
    "prob_y_pred = decision_tree.predict_proba(features)\n",
    "prob_y_pred = [p[1] for p in prob_y_pred]\n",
    "print(f'AUROC : {roc_auc_score(target, prob_y_pred)}, Accuracy score : {accuracy_score(y_pred, target)}')"
   ]
  },
  {
   "cell_type": "markdown",
   "id": "dbadf18f",
   "metadata": {},
   "source": [
    "#### Cost-sensitive decision tree"
   ]
  },
  {
   "cell_type": "code",
   "execution_count": 270,
   "id": "a15aafe5",
   "metadata": {},
   "outputs": [
    {
     "name": "stdout",
     "output_type": "stream",
     "text": [
      "Mean ROC AUC: 0.568\n"
     ]
    }
   ],
   "source": [
    "weights = {0:3.0, 1:1.0}\n",
    "cs_decision_tree = DecisionTreeClassifier(\n",
    "    class_weight=weights,\n",
    "    criterion='entropy',\n",
    "    max_depth=3,\n",
    ")\n",
    "cv = RepeatedStratifiedKFold(n_splits=10, n_repeats=3, random_state=1)\n",
    "\n",
    "target = chicago_cleaned_df[['gender_binary']]\n",
    "features = chicago_cleaned_df[\n",
    "    ['trip_duration','user_type_binary', 'trip_day_night', 'trip_end_hour']\n",
    "]\n",
    "\n",
    "scores = cross_val_score(cs_decision_tree, features, target, scoring='roc_auc', cv=cv, n_jobs=-1)\n",
    "\n",
    "print('Mean ROC AUC: %.3f' % mean(scores))"
   ]
  },
  {
   "cell_type": "code",
   "execution_count": 271,
   "id": "6f345bac",
   "metadata": {},
   "outputs": [
    {
     "name": "stdout",
     "output_type": "stream",
     "text": [
      "Best: 0.514694 using {'class_weight': {0: 1, 1: 1.1}}\n",
      "0.514436 (0.003486) with: {'class_weight': {0: 1, 1: 1}}\n",
      "0.514694 (0.003468) with: {'class_weight': {0: 1, 1: 1.1}}\n",
      "0.514107 (0.003528) with: {'class_weight': {0: 1, 1: 1.2}}\n",
      "0.514452 (0.003434) with: {'class_weight': {0: 1, 1: 1.3}}\n",
      "0.513981 (0.003394) with: {'class_weight': {0: 1, 1: 1.4}}\n",
      "0.514397 (0.003239) with: {'class_weight': {0: 3.13, 1: 1}}\n",
      "0.514183 (0.003294) with: {'class_weight': {0: 1, 1: 3.13}}\n",
      "0.514421 (0.003169) with: {'class_weight': {0: 1, 1: 10}}\n",
      "0.514397 (0.003283) with: {'class_weight': {0: 1, 1: 100}}\n"
     ]
    }
   ],
   "source": [
    "balance = [{0:1, 1:1}, {0:1, 1:1.1}, {0:1, 1:1.2}, {0:1, 1:1.3}, {0:1, 1:1.4}, {0:3.13, 1:1}, {0:1, 1: 3.13}, {0:1, 1:10}, {0:1, 1:100}]\n",
    "param_grid = dict(class_weight=balance)\n",
    "\n",
    "cv = RepeatedStratifiedKFold(n_splits=10, n_repeats=3, random_state=1)\n",
    "model = DecisionTreeClassifier()\n",
    "grid = GridSearchCV(estimator=model, param_grid=param_grid, n_jobs=-1, cv=cv, scoring='roc_auc')\n",
    "grid_result = grid.fit(features, target)\n",
    "print(\"Best: %f using %s\" % (grid_result.best_score_, grid_result.best_params_))\n",
    "\n",
    "means = grid_result.cv_results_['mean_test_score']\n",
    "stds = grid_result.cv_results_['std_test_score']\n",
    "params = grid_result.cv_results_['params']\n",
    "for mean, stdev, param in zip(means, stds, params):\n",
    "    print(\"%f (%f) with: %r\" % (mean, stdev, param))"
   ]
  },
  {
   "cell_type": "markdown",
   "id": "865d8d5c",
   "metadata": {},
   "source": [
    "#### Observations :-\n",
    "- Using Decision Tree, the male to female ratio for Chicago is about **26.04 : 1**.\n",
    "- This predcition is not even close to the actual ratio of number of males to females in Chicago."
   ]
  },
  {
   "cell_type": "markdown",
   "id": "6154d234",
   "metadata": {},
   "source": [
    "### Decision Tree (NewYork)"
   ]
  },
  {
   "cell_type": "code",
   "execution_count": 272,
   "id": "9f6b649c",
   "metadata": {},
   "outputs": [
    {
     "name": "stdout",
     "output_type": "stream",
     "text": [
      "0    108317\n",
      "1     38108\n",
      "dtype: int64\n",
      "Accuracy score : 0.5585111831995903\n",
      "AUROC : 0.5610337411643391\n"
     ]
    }
   ],
   "source": [
    "target = newyork_train[['gender_binary']]\n",
    "features = newyork_train[\n",
    "    ['trip_duration','user_type_binary', 'trip_day_night', 'trip_end_hour']\n",
    "]\n",
    "\n",
    "X_train, X_test, y_train, y_test = train_test_split(\n",
    "    features, target, train_size=0.9, random_state=RANDOM_STATE\n",
    ")\n",
    "\n",
    "decision_tree.fit(X_train, y_train);\n",
    "\n",
    "features = newyork_train[\n",
    "    ['trip_duration','user_type_binary', 'trip_day_night', 'trip_end_hour']\n",
    "]\n",
    "\n",
    "y_pred = decision_tree.predict(features)\n",
    "print(pd.DataFrame(y_pred).value_counts())\n",
    "print(f'Accuracy score : {accuracy_score(y_pred, target)}')\n",
    "target = newyork_cleaned_df[['gender_binary']]\n",
    "features = newyork_cleaned_df[\n",
    "    ['trip_duration','user_type_binary', 'trip_day_night', 'trip_end_hour']\n",
    "]\n",
    "prob_y_pred = decision_tree.predict_proba(features)\n",
    "prob_y_pred = [p[1] for p in prob_y_pred]\n",
    "print(f'AUROC : {roc_auc_score(target, prob_y_pred)}')"
   ]
  },
  {
   "cell_type": "code",
   "execution_count": 273,
   "id": "78af4faf",
   "metadata": {},
   "outputs": [
    {
     "name": "stdout",
     "output_type": "stream",
     "text": [
      "Best: 0.512240 using {'class_weight': {0: 3.13, 1: 1}}\n",
      "0.512106 (0.003472) with: {'class_weight': {0: 1, 1: 1}}\n",
      "0.511972 (0.003680) with: {'class_weight': {0: 1, 1: 1.1}}\n",
      "0.511710 (0.003651) with: {'class_weight': {0: 1, 1: 1.2}}\n",
      "0.511983 (0.003642) with: {'class_weight': {0: 1, 1: 1.3}}\n",
      "0.511718 (0.003741) with: {'class_weight': {0: 1, 1: 1.4}}\n",
      "0.512240 (0.003556) with: {'class_weight': {0: 3.13, 1: 1}}\n",
      "0.511944 (0.003586) with: {'class_weight': {0: 1, 1: 3.13}}\n",
      "0.511473 (0.003621) with: {'class_weight': {0: 1, 1: 10}}\n",
      "0.511817 (0.003522) with: {'class_weight': {0: 1, 1: 100}}\n"
     ]
    }
   ],
   "source": [
    "balance = [{0:1, 1:1}, {0:1, 1:1.1}, {0:1, 1:1.2}, {0:1, 1:1.3}, {0:1, 1:1.4}, {0:3.13, 1:1}, {0:1, 1: 3.13}, {0:1, 1:10}, {0:1, 1:100}]\n",
    "param_grid = dict(class_weight=balance)\n",
    "\n",
    "cv = RepeatedStratifiedKFold(n_splits=10, n_repeats=3, random_state=1)\n",
    "model = DecisionTreeClassifier()\n",
    "grid = GridSearchCV(estimator=model, param_grid=param_grid, n_jobs=-1, cv=cv, scoring='roc_auc')\n",
    "\n",
    "target = newyork_cleaned_df[['gender_binary']]\n",
    "features = newyork_cleaned_df[\n",
    "    ['trip_duration','user_type_binary', 'trip_day_night', 'trip_end_hour']\n",
    "]\n",
    "grid_result = grid.fit(features, target)\n",
    "print(\"Best: %f using %s\" % (grid_result.best_score_, grid_result.best_params_))\n",
    "\n",
    "means = grid_result.cv_results_['mean_test_score']\n",
    "stds = grid_result.cv_results_['std_test_score']\n",
    "params = grid_result.cv_results_['params']\n",
    "for mean, stdev, param in zip(means, stds, params):\n",
    "    print(\"%f (%f) with: %r\" % (mean, stdev, param))"
   ]
  },
  {
   "cell_type": "markdown",
   "id": "780e4f67",
   "metadata": {},
   "source": [
    "#### Observations :-\n",
    "- Using Decision Tree, the male to female ratio for NewYork is about **9.93 : 1**).\n",
    "- This predcition is not even close to the actual ratio of number of males to females in NewYork."
   ]
  },
  {
   "cell_type": "markdown",
   "id": "6c78694a",
   "metadata": {},
   "source": [
    "## ADABoost"
   ]
  },
  {
   "cell_type": "code",
   "execution_count": 274,
   "id": "135b565f",
   "metadata": {},
   "outputs": [],
   "source": [
    "ada_clf = AdaBoostClassifier(\n",
    "    base_estimator = decision_tree,\n",
    "    n_estimators=150,\n",
    "    learning_rate=0.1\n",
    ")"
   ]
  },
  {
   "cell_type": "markdown",
   "id": "bf45f504",
   "metadata": {},
   "source": [
    "### ADABoost (Chicago)"
   ]
  },
  {
   "cell_type": "code",
   "execution_count": 275,
   "id": "733fdd90",
   "metadata": {},
   "outputs": [
    {
     "name": "stdout",
     "output_type": "stream",
     "text": [
      "0    179360\n",
      "1     59539\n",
      "dtype: int64\n",
      "Accuracy score : 0.6671187405556323\n",
      "AUROC : 0.5837806779515755\n"
     ]
    }
   ],
   "source": [
    "target = chicago_train[['gender_binary']]\n",
    "features = chicago_train[\n",
    "    ['trip_duration','user_type_binary', 'trip_day_night', 'trip_end_hour']\n",
    "]\n",
    "\n",
    "X_train, X_test, y_train, y_test = train_test_split(\n",
    "    features, target, train_size=0.9, random_state=RANDOM_STATE\n",
    ")\n",
    "\n",
    "ada_boost_model = ada_clf.fit(X_train, y_train.values.ravel())\n",
    "\n",
    "features = chicago_cleaned_df[\n",
    "    ['trip_duration','user_type_binary', 'trip_day_night', 'trip_end_hour']\n",
    "]\n",
    "target = chicago_cleaned_df[['gender_binary']]\n",
    "y_pred = ada_boost_model.predict(features)\n",
    "\n",
    "print(pd.DataFrame(y_pred).value_counts())\n",
    "print(f'Accuracy score : {accuracy_score(y_pred, target)}')\n",
    "target = chicago_cleaned_df[['gender_binary']]\n",
    "features = chicago_cleaned_df[\n",
    "    ['trip_duration','user_type_binary', 'trip_day_night', 'trip_end_hour']\n",
    "]\n",
    "prob_y_pred = ada_clf.predict_proba(features)\n",
    "prob_y_pred = [p[1] for p in prob_y_pred]\n",
    "print(f'AUROC : {roc_auc_score(target, prob_y_pred)}')"
   ]
  },
  {
   "cell_type": "markdown",
   "id": "c4f8cbdc",
   "metadata": {},
   "source": [
    "#### Observations :-\n",
    "- Using ADABoost, the male to female ratio for Chciago is about **8.24 : 1**.\n",
    "- This predcition is not even close to the actual ratio of number of males to females in Chicago."
   ]
  },
  {
   "cell_type": "markdown",
   "id": "67fadf63",
   "metadata": {},
   "source": [
    "### ADABoost (New York)"
   ]
  },
  {
   "cell_type": "code",
   "execution_count": 276,
   "id": "11e292cb",
   "metadata": {},
   "outputs": [
    {
     "name": "stdout",
     "output_type": "stream",
     "text": [
      "0    205532\n",
      "1     64502\n",
      "dtype: int64\n",
      "Accuracy score : 0.6655124910196494\n",
      "AUROC : 0.5773742582001129\n"
     ]
    }
   ],
   "source": [
    "target = newyork_train[['gender_binary']]\n",
    "features = newyork_train[\n",
    "    ['trip_duration','user_type_binary', 'trip_day_night', 'trip_end_hour']\n",
    "]\n",
    "\n",
    "X_train, X_test, y_train, y_test = train_test_split(\n",
    "    features, target, train_size=0.9, random_state=RANDOM_STATE\n",
    ")\n",
    "\n",
    "ada_boost_model = ada_clf.fit(X_train, y_train.values.ravel())\n",
    "\n",
    "features = newyork_cleaned_df[\n",
    "    ['trip_duration','user_type_binary', 'trip_day_night', 'trip_end_hour']\n",
    "]\n",
    "target = newyork_cleaned_df[['gender_binary']]\n",
    "y_pred = ada_boost_model.predict(features)\n",
    "\n",
    "print(pd.DataFrame(y_pred).value_counts())\n",
    "print(f'Accuracy score : {accuracy_score(y_pred, target)}')\n",
    "\n",
    "target = newyork_cleaned_df[['gender_binary']]\n",
    "features = newyork_cleaned_df[\n",
    "    ['trip_duration','user_type_binary', 'trip_day_night', 'trip_end_hour']\n",
    "]\n",
    "prob_y_pred = ada_clf.predict_proba(features)\n",
    "prob_y_pred = [p[1] for p in prob_y_pred]\n",
    "print(f'AUROC : {roc_auc_score(target, prob_y_pred)}')"
   ]
  },
  {
   "cell_type": "markdown",
   "id": "d034caad",
   "metadata": {},
   "source": [
    "#### Observations :-\n",
    "- Using ADABoost, the male to female ratio for NewYork is about **4.18 : 1**.\n",
    "- This predcition is close to the actual ratio of number of males to females in NewYork but still Logistic Regression gives us a better prediction."
   ]
  },
  {
   "cell_type": "markdown",
   "id": "1265e757",
   "metadata": {},
   "source": [
    "## Bagging"
   ]
  },
  {
   "cell_type": "code",
   "execution_count": 277,
   "id": "9d0fe1e2",
   "metadata": {},
   "outputs": [],
   "source": [
    "bagging_classifier = BaggingClassifier(\n",
    "base_estimator = decision_tree,\n",
    "n_estimators = 200, \n",
    "max_samples = 10000,\n",
    "random_state = RANDOM_STATE,\n",
    ")"
   ]
  },
  {
   "cell_type": "markdown",
   "id": "13dc8c9e",
   "metadata": {},
   "source": [
    "### Bagging (Chicago)"
   ]
  },
  {
   "cell_type": "code",
   "execution_count": 278,
   "id": "fb05c3d2",
   "metadata": {},
   "outputs": [
    {
     "name": "stdout",
     "output_type": "stream",
     "text": [
      "0    177345\n",
      "1     61554\n",
      "dtype: int64\n",
      "Accuracy score : 0.6596051050862498\n",
      "AUROC : 0.5726674489674901\n"
     ]
    }
   ],
   "source": [
    "target = chicago_train[['gender_binary']]\n",
    "features = chicago_train[\n",
    "    ['trip_duration','user_type_binary', 'trip_day_night', 'trip_end_hour']\n",
    "]\n",
    "\n",
    "X_train, X_test, y_train, y_test = train_test_split(\n",
    "    features, target, train_size=0.9, random_state=RANDOM_STATE\n",
    ")\n",
    "\n",
    "model = bagging_classifier.fit(X_train, y_train.values.ravel())\n",
    "\n",
    "y_pred = model.predict(chicago_cleaned_df[\n",
    "    ['trip_duration','user_type_binary', 'trip_day_night', 'trip_end_hour']\n",
    "])\n",
    "\n",
    "target = chicago_cleaned_df[['gender_binary']]\n",
    "print(pd.DataFrame(y_pred).value_counts())\n",
    "print(f'Accuracy score : {accuracy_score(y_pred, target)}')\n",
    "\n",
    "target = chicago_cleaned_df[['gender_binary']]\n",
    "features = chicago_cleaned_df[\n",
    "    ['trip_duration','user_type_binary', 'trip_day_night', 'trip_end_hour']\n",
    "]\n",
    "prob_y_pred = bagging_classifier.predict_proba(features)\n",
    "prob_y_pred = [p[1] for p in prob_y_pred]\n",
    "print(f'AUROC : {roc_auc_score(target, prob_y_pred)}')"
   ]
  },
  {
   "cell_type": "markdown",
   "id": "2f493ea2",
   "metadata": {},
   "source": [
    "#### Observations :-\n",
    "- Using Bagging, the male to female ratio for Chicago is about **17.78 : 1**.\n",
    "- This predcition is not even close to the actual ratio of number of males to females in Chicago."
   ]
  },
  {
   "cell_type": "markdown",
   "id": "9b424b3c",
   "metadata": {},
   "source": [
    "### Bagging (NewYork)"
   ]
  },
  {
   "cell_type": "code",
   "execution_count": 279,
   "id": "66862be4",
   "metadata": {},
   "outputs": [
    {
     "name": "stdout",
     "output_type": "stream",
     "text": [
      "0    214351\n",
      "1     55683\n",
      "dtype: int64\n",
      "Accuracy score : 0.6759889495396876\n",
      "AUROC : 0.5701135959437491\n"
     ]
    }
   ],
   "source": [
    "target = newyork_train[['gender_binary']]\n",
    "features = newyork_train[\n",
    "    ['trip_duration','user_type_binary', 'trip_day_night', 'trip_end_hour']\n",
    "]\n",
    "\n",
    "X_train, X_test, y_train, y_test = train_test_split(\n",
    "    features, target, train_size=0.9, random_state=RANDOM_STATE\n",
    ")\n",
    "\n",
    "model = bagging_classifier.fit(X_train, y_train.values.ravel())\n",
    "\n",
    "y_pred = model.predict(newyork_cleaned_df[\n",
    "    ['trip_duration','user_type_binary', 'trip_day_night', 'trip_end_hour']\n",
    "])\n",
    "target = newyork_cleaned_df[['gender_binary']]\n",
    "print(pd.DataFrame(y_pred).value_counts())\n",
    "print(f'Accuracy score : {accuracy_score(y_pred, target)}')\n",
    "\n",
    "target = newyork_cleaned_df[['gender_binary']]\n",
    "features = newyork_cleaned_df[\n",
    "    ['trip_duration','user_type_binary', 'trip_day_night', 'trip_end_hour']\n",
    "]\n",
    "prob_y_pred = bagging_classifier.predict_proba(features)\n",
    "prob_y_pred = [p[1] for p in prob_y_pred]\n",
    "print(f'AUROC : {roc_auc_score(target, prob_y_pred)}')"
   ]
  },
  {
   "cell_type": "markdown",
   "id": "16396501",
   "metadata": {},
   "source": [
    "#### Observations :-\n",
    "- Using Bagging, the male to female ratio for NewYork is about **8.19 : 1**.\n",
    "- This predcition is not even close to the actual ratio of number of males to females in NewYork."
   ]
  },
  {
   "cell_type": "markdown",
   "id": "b374ed77",
   "metadata": {},
   "source": [
    "## Random Forest"
   ]
  },
  {
   "cell_type": "code",
   "execution_count": 280,
   "id": "e3fddcee",
   "metadata": {},
   "outputs": [],
   "source": [
    "ranfor_clf = RandomForestClassifier(n_estimators=150)\n",
    "\n",
    "target = chicago_cleaned_df[['gender_binary']]\n",
    "features = chicago_cleaned_df[\n",
    "    ['trip_duration','user_type_binary', 'trip_day_night', 'trip_end_hour']\n",
    "]\n",
    "\n",
    "X_train, X_test, y_train, y_test = train_test_split(\n",
    "    features, target, train_size=0.9, random_state=RANDOM_STATE\n",
    ")\n",
    "\n",
    "model = ranfor_clf.fit(X_train, y_train.values.ravel())"
   ]
  },
  {
   "cell_type": "markdown",
   "id": "68f45446",
   "metadata": {},
   "source": [
    "### Random Forest (Chicago)"
   ]
  },
  {
   "cell_type": "code",
   "execution_count": 281,
   "id": "bff30302",
   "metadata": {},
   "outputs": [
    {
     "name": "stdout",
     "output_type": "stream",
     "text": [
      "0    222570\n",
      "1     16329\n",
      "dtype: int64\n",
      "Accuracy score : 0.7796181649985977\n",
      "AUROC : 0.7308937620916081\n"
     ]
    }
   ],
   "source": [
    "y_pred = model.predict(chicago_cleaned_df[\n",
    "    ['trip_duration','user_type_binary', 'trip_day_night', 'trip_end_hour']\n",
    "])\n",
    "target = chicago_cleaned_df[['gender_binary']]\n",
    "print(pd.DataFrame(y_pred).value_counts())\n",
    "print(f'Accuracy score : {accuracy_score(y_pred, target)}')\n",
    "target = chicago_cleaned_df[['gender_binary']]\n",
    "features = chicago_cleaned_df[\n",
    "    ['trip_duration','user_type_binary', 'trip_day_night', 'trip_end_hour']\n",
    "]\n",
    "prob_y_pred = ranfor_clf.predict_proba(features)\n",
    "prob_y_pred = [p[1] for p in prob_y_pred]\n",
    "print(f'AUROC : {roc_auc_score(target, prob_y_pred)}')"
   ]
  },
  {
   "cell_type": "markdown",
   "id": "4ef746c6",
   "metadata": {},
   "source": [
    "#### Observations :-\n",
    "- Using Random Forest, the male to female ratio for Chicago is about **2.11 : 1**.\n",
    "- This ratio of number of males to females in Chicago using Random Forest is coming less than the actual ratio in Chicago."
   ]
  },
  {
   "cell_type": "markdown",
   "id": "407239bb",
   "metadata": {},
   "source": [
    "### Random Forest (NewYork)"
   ]
  },
  {
   "cell_type": "code",
   "execution_count": 282,
   "id": "dd6c1501",
   "metadata": {},
   "outputs": [
    {
     "name": "stdout",
     "output_type": "stream",
     "text": [
      "0    163447\n",
      "1    106587\n",
      "dtype: int64\n",
      "Accuracy score : 0.6554507950850633\n",
      "AUROC : 0.6992390349426761\n"
     ]
    }
   ],
   "source": [
    "target = newyork_train[['gender_binary']]\n",
    "features = newyork_train[\n",
    "    ['trip_duration','user_type_binary', 'trip_day_night', 'trip_end_hour']\n",
    "]\n",
    "\n",
    "X_train, X_test, y_train, y_test = train_test_split(\n",
    "    features, target, train_size=0.9, random_state=RANDOM_STATE\n",
    ")\n",
    "\n",
    "model = ranfor_clf.fit(X_train, y_train.values.ravel())\n",
    "\n",
    "y_pred = model.predict(newyork_cleaned_df[\n",
    "    ['trip_duration','user_type_binary', 'trip_day_night', 'trip_end_hour']\n",
    "])\n",
    "target = newyork_cleaned_df[['gender_binary']]\n",
    "\n",
    "print(pd.DataFrame(y_pred).value_counts())\n",
    "print(f'Accuracy score : {accuracy_score(y_pred, target)}')\n",
    "\n",
    "target = newyork_cleaned_df[['gender_binary']]\n",
    "features = newyork_cleaned_df[\n",
    "    ['trip_duration','user_type_binary', 'trip_day_night', 'trip_end_hour']\n",
    "]\n",
    "prob_y_pred = ranfor_clf.predict_proba(features)\n",
    "prob_y_pred = [p[1] for p in prob_y_pred]\n",
    "print(f'AUROC : {roc_auc_score(target, prob_y_pred)}')"
   ]
  },
  {
   "cell_type": "markdown",
   "id": "aa9428ed",
   "metadata": {},
   "source": [
    "#### Observations :-\n",
    "- Using Random Forest, the male to female ratio for NewYork is about **1.04 : 1**.\n",
    "- This ratio of number of males to females in Chicago using Random Forest is coming less than the actual ratio in NewYork."
   ]
  },
  {
   "cell_type": "markdown",
   "id": "753286d0",
   "metadata": {},
   "source": [
    "#### Therefore, Logistic Regression classifies the data best as the ratio of males to females in both Chicago and NewYork are almost identical to the actual ratio of number of males to number of males for both the dataframes."
   ]
  },
  {
   "cell_type": "code",
   "execution_count": 283,
   "id": "777c5ef1",
   "metadata": {},
   "outputs": [],
   "source": [
    "washington_cleaned_df['user_type_binary'] = washington_cleaned_df['user_type'].apply(\n",
    "    lambda x: 1 if x == 'Subscriber' else 0)"
   ]
  },
  {
   "cell_type": "code",
   "execution_count": 284,
   "id": "362d854f",
   "metadata": {},
   "outputs": [
    {
     "data": {
      "text/html": [
       "<div>\n",
       "<style scoped>\n",
       "    .dataframe tbody tr th:only-of-type {\n",
       "        vertical-align: middle;\n",
       "    }\n",
       "\n",
       "    .dataframe tbody tr th {\n",
       "        vertical-align: top;\n",
       "    }\n",
       "\n",
       "    .dataframe thead th {\n",
       "        text-align: right;\n",
       "    }\n",
       "</style>\n",
       "<table border=\"1\" class=\"dataframe\">\n",
       "  <thead>\n",
       "    <tr style=\"text-align: right;\">\n",
       "      <th></th>\n",
       "      <th>ride_id</th>\n",
       "      <th>start_time</th>\n",
       "      <th>end_time</th>\n",
       "      <th>trip_duration</th>\n",
       "      <th>start_station</th>\n",
       "      <th>end_station</th>\n",
       "      <th>user_type</th>\n",
       "      <th>trip_end_hour</th>\n",
       "      <th>trip_day_night</th>\n",
       "      <th>trip_duration_binary</th>\n",
       "      <th>user_type_binary</th>\n",
       "    </tr>\n",
       "  </thead>\n",
       "  <tbody>\n",
       "    <tr>\n",
       "      <th>0</th>\n",
       "      <td>1621326</td>\n",
       "      <td>2017-06-21 08:36:34</td>\n",
       "      <td>2017-06-21 08:44:43</td>\n",
       "      <td>489.066</td>\n",
       "      <td>14th &amp; Belmont St NW</td>\n",
       "      <td>15th &amp; K St NW</td>\n",
       "      <td>Subscriber</td>\n",
       "      <td>8</td>\n",
       "      <td>0</td>\n",
       "      <td>0</td>\n",
       "      <td>1</td>\n",
       "    </tr>\n",
       "    <tr>\n",
       "      <th>1</th>\n",
       "      <td>482740</td>\n",
       "      <td>2017-03-11 10:40:00</td>\n",
       "      <td>2017-03-11 10:46:00</td>\n",
       "      <td>402.549</td>\n",
       "      <td>Yuma St &amp; Tenley Circle NW</td>\n",
       "      <td>Connecticut Ave &amp; Yuma St NW</td>\n",
       "      <td>Subscriber</td>\n",
       "      <td>10</td>\n",
       "      <td>0</td>\n",
       "      <td>0</td>\n",
       "      <td>1</td>\n",
       "    </tr>\n",
       "    <tr>\n",
       "      <th>2</th>\n",
       "      <td>1330037</td>\n",
       "      <td>2017-05-30 01:02:59</td>\n",
       "      <td>2017-05-30 01:13:37</td>\n",
       "      <td>637.251</td>\n",
       "      <td>17th St &amp; Massachusetts Ave NW</td>\n",
       "      <td>5th &amp; K St NW</td>\n",
       "      <td>Subscriber</td>\n",
       "      <td>1</td>\n",
       "      <td>1</td>\n",
       "      <td>0</td>\n",
       "      <td>1</td>\n",
       "    </tr>\n",
       "    <tr>\n",
       "      <th>3</th>\n",
       "      <td>665458</td>\n",
       "      <td>2017-04-02 07:48:35</td>\n",
       "      <td>2017-04-02 08:19:03</td>\n",
       "      <td>1827.341</td>\n",
       "      <td>Constitution Ave &amp; 2nd St NW/DOL</td>\n",
       "      <td>M St &amp; Pennsylvania Ave NW</td>\n",
       "      <td>Customer</td>\n",
       "      <td>8</td>\n",
       "      <td>0</td>\n",
       "      <td>1</td>\n",
       "      <td>0</td>\n",
       "    </tr>\n",
       "    <tr>\n",
       "      <th>4</th>\n",
       "      <td>1481135</td>\n",
       "      <td>2017-06-10 08:36:28</td>\n",
       "      <td>2017-06-10 09:02:17</td>\n",
       "      <td>1549.427</td>\n",
       "      <td>Henry Bacon Dr &amp; Lincoln Memorial Circle NW</td>\n",
       "      <td>Maine Ave &amp; 7th St SW</td>\n",
       "      <td>Subscriber</td>\n",
       "      <td>9</td>\n",
       "      <td>0</td>\n",
       "      <td>1</td>\n",
       "      <td>1</td>\n",
       "    </tr>\n",
       "  </tbody>\n",
       "</table>\n",
       "</div>"
      ],
      "text/plain": [
       "   ride_id          start_time            end_time  trip_duration  \\\n",
       "0  1621326 2017-06-21 08:36:34 2017-06-21 08:44:43        489.066   \n",
       "1   482740 2017-03-11 10:40:00 2017-03-11 10:46:00        402.549   \n",
       "2  1330037 2017-05-30 01:02:59 2017-05-30 01:13:37        637.251   \n",
       "3   665458 2017-04-02 07:48:35 2017-04-02 08:19:03       1827.341   \n",
       "4  1481135 2017-06-10 08:36:28 2017-06-10 09:02:17       1549.427   \n",
       "\n",
       "                                 start_station                   end_station  \\\n",
       "0                         14th & Belmont St NW                15th & K St NW   \n",
       "1                   Yuma St & Tenley Circle NW  Connecticut Ave & Yuma St NW   \n",
       "2               17th St & Massachusetts Ave NW                 5th & K St NW   \n",
       "3             Constitution Ave & 2nd St NW/DOL    M St & Pennsylvania Ave NW   \n",
       "4  Henry Bacon Dr & Lincoln Memorial Circle NW         Maine Ave & 7th St SW   \n",
       "\n",
       "    user_type  trip_end_hour  trip_day_night  trip_duration_binary  \\\n",
       "0  Subscriber              8               0                     0   \n",
       "1  Subscriber             10               0                     0   \n",
       "2  Subscriber              1               1                     0   \n",
       "3    Customer              8               0                     1   \n",
       "4  Subscriber              9               0                     1   \n",
       "\n",
       "   user_type_binary  \n",
       "0                 1  \n",
       "1                 1  \n",
       "2                 1  \n",
       "3                 0  \n",
       "4                 1  "
      ]
     },
     "execution_count": 284,
     "metadata": {},
     "output_type": "execute_result"
    }
   ],
   "source": [
    "washington_cleaned_df.head()"
   ]
  },
  {
   "cell_type": "code",
   "execution_count": 285,
   "id": "f8ecdee4",
   "metadata": {},
   "outputs": [
    {
     "data": {
      "text/plain": [
       "0    250288\n",
       "1     49712\n",
       "dtype: int64"
      ]
     },
     "execution_count": 285,
     "metadata": {},
     "output_type": "execute_result"
    }
   ],
   "source": [
    "features = washington_cleaned_df[\n",
    "    ['trip_duration','user_type_binary', 'trip_day_night', 'trip_end_hour']\n",
    "]\n",
    "\n",
    "y_pred = newyork_logistic_regression.predict(features)\n",
    "pd.DataFrame(y_pred).value_counts()"
   ]
  },
  {
   "cell_type": "code",
   "execution_count": 286,
   "id": "225a9802",
   "metadata": {},
   "outputs": [],
   "source": [
    "washington_cleaned_df['gender_binary'] = y_pred"
   ]
  },
  {
   "cell_type": "code",
   "execution_count": 287,
   "id": "b9632cd0",
   "metadata": {},
   "outputs": [],
   "source": [
    "washington_cleaned_df['gender'] = washington_cleaned_df['gender_binary'].apply(\n",
    "    lambda x: 'Female' if x == 1 else 'Male')"
   ]
  },
  {
   "cell_type": "markdown",
   "id": "0734e2bd",
   "metadata": {},
   "source": [
    "#### As we have noticed from above, our method of sampling was not optimal. We overfit for the models for the existing datasets and the prediction is not correct.\n",
    "\n",
    "#### Below, we will try other methods to mitigate this class imbalance."
   ]
  },
  {
   "cell_type": "code",
   "execution_count": 291,
   "id": "5c069717",
   "metadata": {
    "scrolled": true
   },
   "outputs": [],
   "source": [
    "from imblearn.ensemble import BalancedRandomForestClassifier"
   ]
  },
  {
   "cell_type": "code",
   "execution_count": 292,
   "id": "6255554a",
   "metadata": {},
   "outputs": [
    {
     "name": "stdout",
     "output_type": "stream",
     "text": [
      "AUROC : 0.718973103126883\n",
      "Accuracy Score : 0.6066747872531907\n"
     ]
    },
    {
     "data": {
      "text/plain": [
       "0    164632\n",
       "1    135368\n",
       "dtype: int64"
      ]
     },
     "execution_count": 292,
     "metadata": {},
     "output_type": "execute_result"
    }
   ],
   "source": [
    "target = chicago_cleaned_df[['gender_binary']]\n",
    "features = chicago_cleaned_df[\n",
    "    ['trip_duration','user_type_binary', 'trip_day_night', 'trip_end_hour']\n",
    "]\n",
    "\n",
    "X_train, X_test, y_train, y_test = train_test_split(\n",
    "    features, target, train_size=0.9, random_state=RANDOM_STATE\n",
    ")\n",
    "clf = BalancedRandomForestClassifier(n_estimators=100,random_state=1)\n",
    "clf.fit(X_train, y_train.values.ravel())\n",
    "y_pred = clf.predict(features)\n",
    "\n",
    "prob_y_pred = clf.predict_proba(features)\n",
    "prob_y_pred = [p[1] for p in prob_y_pred]\n",
    "print(f'AUROC : {roc_auc_score(target, prob_y_pred)}\\nAccuracy Score : {accuracy_score(y_pred, target)}')\n",
    "\n",
    "features = washington_cleaned_df[\n",
    "    ['trip_duration','user_type_binary', 'trip_day_night', 'trip_end_hour']\n",
    "]\n",
    "\n",
    "y_pred = clf.predict(features)\n",
    "pd.DataFrame(y_pred).value_counts()"
   ]
  },
  {
   "cell_type": "code",
   "execution_count": 293,
   "id": "a1847e6b",
   "metadata": {},
   "outputs": [
    {
     "name": "stdout",
     "output_type": "stream",
     "text": [
      "AUROC : 0.7270927909932088\n",
      "Accuracy Score : 0.6080974988334802\n"
     ]
    },
    {
     "data": {
      "text/plain": [
       "1    156135\n",
       "0    143865\n",
       "dtype: int64"
      ]
     },
     "execution_count": 293,
     "metadata": {},
     "output_type": "execute_result"
    }
   ],
   "source": [
    "target = newyork_cleaned_df[['gender_binary']]\n",
    "features = newyork_cleaned_df[\n",
    "    ['trip_duration','user_type_binary', 'trip_day_night', 'trip_end_hour']\n",
    "]\n",
    "\n",
    "X_train, X_test, y_train, y_test = train_test_split(\n",
    "    features, target, train_size=0.9, random_state=RANDOM_STATE\n",
    ")\n",
    "clf = BalancedRandomForestClassifier(n_estimators=100,random_state=1)\n",
    "clf.fit(X_train, y_train.values.ravel())\n",
    "y_pred = clf.predict(features)\n",
    "\n",
    "prob_y_pred = clf.predict_proba(features)\n",
    "prob_y_pred = [p[1] for p in prob_y_pred]\n",
    "print(f'AUROC : {roc_auc_score(target, prob_y_pred)}\\nAccuracy Score : {accuracy_score(y_pred, target)}')\n",
    "\n",
    "features = washington_cleaned_df[\n",
    "    ['trip_duration','user_type_binary', 'trip_day_night', 'trip_end_hour']\n",
    "]\n",
    "\n",
    "y_pred = clf.predict(features)\n",
    "pd.DataFrame(y_pred).value_counts()"
   ]
  },
  {
   "cell_type": "markdown",
   "id": "c82b858b",
   "metadata": {},
   "source": [
    "#### We notice that the AUROC is 0.71, so much better than the previous models when trained over the entire imbalanced dataset."
   ]
  },
  {
   "cell_type": "code",
   "execution_count": 294,
   "id": "a261cad6",
   "metadata": {},
   "outputs": [
    {
     "name": "stdout",
     "output_type": "stream",
     "text": [
      "AUROC : 0.7936384920708124\n",
      "Accuracy Score : 0.7045990654626861\n"
     ]
    },
    {
     "data": {
      "text/plain": [
       "0    150671\n",
       "1    149329\n",
       "dtype: int64"
      ]
     },
     "execution_count": 294,
     "metadata": {},
     "output_type": "execute_result"
    }
   ],
   "source": [
    "target = newyork_cleaned_df[['gender_binary']]\n",
    "features = newyork_cleaned_df[\n",
    "    ['trip_duration','user_type_binary', 'trip_day_night', 'trip_end_hour']\n",
    "]\n",
    "X, y = RandomUnderSampler().fit_resample(features, target.values.ravel())\n",
    "\n",
    "clf = RandomForestClassifier()\n",
    "clf.fit(X, y)\n",
    "y_pred = clf.predict(X)\n",
    "\n",
    "prob_y_pred = clf.predict_proba(X)\n",
    "prob_y_pred = [p[1] for p in prob_y_pred]\n",
    "print(f'AUROC : {roc_auc_score(y, prob_y_pred)}\\nAccuracy Score : {accuracy_score(y_pred, y)}')\n",
    "\n",
    "features = washington_cleaned_df[\n",
    "    ['trip_duration','user_type_binary', 'trip_day_night', 'trip_end_hour']\n",
    "]\n",
    "\n",
    "y_pred = clf.predict(features)\n",
    "pd.DataFrame(y_pred).value_counts()"
   ]
  },
  {
   "cell_type": "code",
   "execution_count": 97,
   "id": "e4054d99",
   "metadata": {},
   "outputs": [
    {
     "name": "stdout",
     "output_type": "stream",
     "text": [
      "0    222520\n",
      "1     16379\n",
      "dtype: int64\n",
      "AUROC : 0.7306399920436628\n",
      "Accuracy Score : 0.779484217179645\n"
     ]
    },
    {
     "data": {
      "text/plain": [
       "0    273904\n",
       "1     26096\n",
       "dtype: int64"
      ]
     },
     "execution_count": 97,
     "metadata": {},
     "output_type": "execute_result"
    }
   ],
   "source": [
    "target = chicago_cleaned_df[['gender_binary']]\n",
    "features = chicago_cleaned_df[\n",
    "    ['trip_duration','user_type_binary', 'trip_day_night', 'trip_end_hour']\n",
    "]\n",
    "\n",
    "X_train, X_test, y_train, y_test = train_test_split(\n",
    "    features, target, train_size=0.9, random_state=RANDOM_STATE\n",
    ")\n",
    "clf = RandomForestClassifier()\n",
    "clf.fit(X_train, y_train.values.ravel())\n",
    "y_pred = clf.predict(features)\n",
    "print(pd.DataFrame(y_pred).value_counts())\n",
    "prob_y_pred = clf.predict_proba(features)\n",
    "prob_y_pred = [p[1] for p in prob_y_pred]\n",
    "print(f'AUROC : {roc_auc_score(target, prob_y_pred)}\\nAccuracy Score : {accuracy_score(y_pred, target)}')\n",
    "\n",
    "features = washington_cleaned_df[\n",
    "    ['trip_duration','user_type_binary', 'trip_day_night', 'trip_end_hour']\n",
    "]\n",
    "\n",
    "y_pred = clf.predict(features)\n",
    "pd.DataFrame(y_pred).value_counts()"
   ]
  },
  {
   "cell_type": "markdown",
   "id": "338429a6",
   "metadata": {},
   "source": [
    "#### The Random forest classifier trained over the entire dataset is also giving us a better AUROC and accuracy values"
   ]
  },
  {
   "cell_type": "code",
   "execution_count": 297,
   "id": "c4f1e57d",
   "metadata": {},
   "outputs": [],
   "source": [
    "from imblearn.over_sampling import RandomOverSampler, SMOTE\n",
    "from imblearn.under_sampling import RandomUnderSampler"
   ]
  },
  {
   "cell_type": "code",
   "execution_count": 298,
   "id": "be9d70f2",
   "metadata": {},
   "outputs": [
    {
     "name": "stdout",
     "output_type": "stream",
     "text": [
      "AUROC : 0.795192804769342\n",
      "Accuracy Score : 0.7073565566674747\n"
     ]
    },
    {
     "data": {
      "text/plain": [
       "0    165663\n",
       "1    134337\n",
       "dtype: int64"
      ]
     },
     "execution_count": 298,
     "metadata": {},
     "output_type": "execute_result"
    }
   ],
   "source": [
    "rus = RandomUnderSampler(random_state=RANDOM_STATE, replacement=True)\n",
    "target = chicago_cleaned_df[['gender_binary']]\n",
    "features = chicago_cleaned_df[\n",
    "    ['trip_duration','user_type_binary', 'trip_day_night', 'trip_end_hour']\n",
    "]\n",
    "\n",
    "X, y = rus.fit_resample(features, target.values.ravel())\n",
    "\n",
    "clf = RandomForestClassifier()\n",
    "clf.fit(X, y)\n",
    "y_pred = clf.predict(X)\n",
    "\n",
    "prob_y_pred = clf.predict_proba(X)\n",
    "prob_y_pred = [p[1] for p in prob_y_pred]\n",
    "print(f'AUROC : {roc_auc_score(y, prob_y_pred)}\\nAccuracy Score : {accuracy_score(y_pred, y)}')\n",
    "\n",
    "features = washington_cleaned_df[\n",
    "    ['trip_duration','user_type_binary', 'trip_day_night', 'trip_end_hour']\n",
    "]\n",
    "\n",
    "y_pred = clf.predict(features)\n",
    "pd.DataFrame(y_pred).value_counts()"
   ]
  },
  {
   "cell_type": "code",
   "execution_count": 299,
   "id": "3e503104",
   "metadata": {},
   "outputs": [
    {
     "name": "stdout",
     "output_type": "stream",
     "text": [
      "AUROC : 0.8060833679738882\n",
      "Accuracy Score : 0.7158075033429993\n"
     ]
    },
    {
     "data": {
      "text/plain": [
       "1    162473\n",
       "0    137527\n",
       "dtype: int64"
      ]
     },
     "execution_count": 299,
     "metadata": {},
     "output_type": "execute_result"
    }
   ],
   "source": [
    "rus = RandomUnderSampler(random_state=RANDOM_STATE, replacement=True)\n",
    "target = newyork_cleaned_df[['gender_binary']]\n",
    "features = newyork_cleaned_df[\n",
    "    ['trip_duration','user_type_binary', 'trip_day_night', 'trip_end_hour']\n",
    "]\n",
    "\n",
    "X, y = rus.fit_resample(features, target.values.ravel())\n",
    "\n",
    "clf = RandomForestClassifier()\n",
    "clf.fit(X, y)\n",
    "y_pred = clf.predict(X)\n",
    "\n",
    "prob_y_pred = clf.predict_proba(X)\n",
    "prob_y_pred = [p[1] for p in prob_y_pred]\n",
    "print(f'AUROC : {roc_auc_score(y, prob_y_pred)}\\nAccuracy Score : {accuracy_score(y_pred, y)}')\n",
    "\n",
    "features = washington_cleaned_df[\n",
    "    ['trip_duration','user_type_binary', 'trip_day_night', 'trip_end_hour']\n",
    "]\n",
    "\n",
    "y_pred = clf.predict(features)\n",
    "pd.DataFrame(y_pred).value_counts()"
   ]
  },
  {
   "cell_type": "code",
   "execution_count": 300,
   "id": "200d30c3",
   "metadata": {},
   "outputs": [
    {
     "name": "stdout",
     "output_type": "stream",
     "text": [
      "AUROC : 0.7610393101190556\n",
      "Accuracy Score : 0.6811737817501283\n"
     ]
    },
    {
     "data": {
      "text/plain": [
       "0    202360\n",
       "1     97640\n",
       "dtype: int64"
      ]
     },
     "execution_count": 300,
     "metadata": {},
     "output_type": "execute_result"
    }
   ],
   "source": [
    "ros = RandomOverSampler()\n",
    "\n",
    "target = chicago_cleaned_df[['gender_binary']]\n",
    "features = chicago_cleaned_df[\n",
    "    ['trip_duration','user_type_binary', 'trip_day_night', 'trip_end_hour']\n",
    "]\n",
    "\n",
    "X, y = ros.fit_resample(features, target.values.ravel())\n",
    "\n",
    "clf = RandomForestClassifier()\n",
    "clf.fit(X, y)\n",
    "y_pred = clf.predict(X)\n",
    "\n",
    "prob_y_pred = clf.predict_proba(X)\n",
    "prob_y_pred = [p[1] for p in prob_y_pred]\n",
    "print(f'AUROC : {roc_auc_score(y, prob_y_pred)}\\nAccuracy Score : {accuracy_score(y_pred, y)}')\n",
    "\n",
    "features = washington_cleaned_df[\n",
    "    ['trip_duration','user_type_binary', 'trip_day_night', 'trip_end_hour']\n",
    "]\n",
    "\n",
    "y_pred = clf.predict(features)\n",
    "pd.DataFrame(y_pred).value_counts()"
   ]
  },
  {
   "cell_type": "code",
   "execution_count": 301,
   "id": "42d19246",
   "metadata": {},
   "outputs": [
    {
     "name": "stdout",
     "output_type": "stream",
     "text": [
      "AUROC : 0.7749586614365696\n",
      "Accuracy Score : 0.6913631516092728\n"
     ]
    },
    {
     "data": {
      "text/plain": [
       "0    187500\n",
       "1    112500\n",
       "dtype: int64"
      ]
     },
     "execution_count": 301,
     "metadata": {},
     "output_type": "execute_result"
    }
   ],
   "source": [
    "ros = RandomOverSampler()\n",
    "\n",
    "target = newyork_cleaned_df[['gender_binary']]\n",
    "features = newyork_cleaned_df[\n",
    "    ['trip_duration','user_type_binary', 'trip_day_night', 'trip_end_hour']\n",
    "]\n",
    "\n",
    "X, y = ros.fit_resample(features, target.values.ravel())\n",
    "\n",
    "clf = RandomForestClassifier()\n",
    "clf.fit(X, y)\n",
    "y_pred = clf.predict(X)\n",
    "\n",
    "prob_y_pred = clf.predict_proba(X)\n",
    "prob_y_pred = [p[1] for p in prob_y_pred]\n",
    "print(f'AUROC : {roc_auc_score(y, prob_y_pred)}\\nAccuracy Score : {accuracy_score(y_pred, y)}')\n",
    "\n",
    "features = washington_cleaned_df[\n",
    "    ['trip_duration','user_type_binary', 'trip_day_night', 'trip_end_hour']\n",
    "]\n",
    "\n",
    "y_pred = clf.predict(features)\n",
    "pd.DataFrame(y_pred).value_counts()"
   ]
  },
  {
   "cell_type": "code",
   "execution_count": 106,
   "id": "d53ad99f",
   "metadata": {},
   "outputs": [
    {
     "name": "stdout",
     "output_type": "stream",
     "text": [
      "0    181141\n",
      "1    181141\n",
      "dtype: int64\n",
      "AUROC : 0.7605761302203\n",
      "Accuracy Score : 0.6809446784549053\n"
     ]
    },
    {
     "data": {
      "text/plain": [
       "0    203932\n",
       "1     96068\n",
       "dtype: int64"
      ]
     },
     "execution_count": 106,
     "metadata": {},
     "output_type": "execute_result"
    }
   ],
   "source": [
    "smote= SMOTE()\n",
    "\n",
    "target = chicago_cleaned_df[['gender_binary']]\n",
    "features = chicago_cleaned_df[\n",
    "    ['trip_duration','user_type_binary', 'trip_day_night', 'trip_end_hour']\n",
    "]\n",
    "\n",
    "x, y = smote.fit_resample(features, target.values.ravel())\n",
    "\n",
    "clf = RandomForestClassifier()\n",
    "clf.fit(X, y)\n",
    "y_pred = clf.predict(X)\n",
    "\n",
    "prob_y_pred = clf.predict_proba(X)\n",
    "prob_y_pred = [p[1] for p in prob_y_pred]\n",
    "print(f'AUROC : {roc_auc_score(y, prob_y_pred)}\\nAccuracy Score : {accuracy_score(y_pred, y)}')\n",
    "\n",
    "features = washington_cleaned_df[\n",
    "    ['trip_duration','user_type_binary', 'trip_day_night', 'trip_end_hour']\n",
    "]\n",
    "\n",
    "y_pred = clf.predict(features)\n",
    "pd.DataFrame(y_pred).value_counts()"
   ]
  },
  {
   "cell_type": "code",
   "execution_count": 302,
   "id": "b768ece8",
   "metadata": {},
   "outputs": [
    {
     "name": "stdout",
     "output_type": "stream",
     "text": [
      "AUROC : 0.7749677327720312\n",
      "Accuracy Score : 0.6913729807300087\n"
     ]
    },
    {
     "data": {
      "text/plain": [
       "0    187606\n",
       "1    112394\n",
       "dtype: int64"
      ]
     },
     "execution_count": 302,
     "metadata": {},
     "output_type": "execute_result"
    }
   ],
   "source": [
    "smote= SMOTE()\n",
    "\n",
    "target = newyork_cleaned_df[['gender_binary']]\n",
    "features = newyork_cleaned_df[\n",
    "    ['trip_duration','user_type_binary', 'trip_day_night', 'trip_end_hour']\n",
    "]\n",
    "\n",
    "x, y = smote.fit_resample(features, target.values.ravel())\n",
    "\n",
    "clf = RandomForestClassifier()\n",
    "clf.fit(X, y)\n",
    "y_pred = clf.predict(X)\n",
    "\n",
    "prob_y_pred = clf.predict_proba(X)\n",
    "prob_y_pred = [p[1] for p in prob_y_pred]\n",
    "print(f'AUROC : {roc_auc_score(y, prob_y_pred)}\\nAccuracy Score : {accuracy_score(y_pred, y)}')\n",
    "\n",
    "features = washington_cleaned_df[\n",
    "    ['trip_duration','user_type_binary', 'trip_day_night', 'trip_end_hour']\n",
    "]\n",
    "\n",
    "y_pred = clf.predict(features)\n",
    "pd.DataFrame(y_pred).value_counts()"
   ]
  }
 ],
 "metadata": {
  "kernelspec": {
   "display_name": "Python 3 (ipykernel)",
   "language": "python",
   "name": "python3"
  },
  "language_info": {
   "codemirror_mode": {
    "name": "ipython",
    "version": 3
   },
   "file_extension": ".py",
   "mimetype": "text/x-python",
   "name": "python",
   "nbconvert_exporter": "python",
   "pygments_lexer": "ipython3",
   "version": "3.9.7"
  }
 },
 "nbformat": 4,
 "nbformat_minor": 5
}
